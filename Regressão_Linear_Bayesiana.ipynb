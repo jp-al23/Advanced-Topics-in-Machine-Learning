{
 "cells": [
  {
   "cell_type": "markdown",
   "metadata": {
    "id": "6CjDQNfm6xXs"
   },
   "source": [
    "# Inicialização"
   ]
  },
  {
   "cell_type": "code",
   "execution_count": 1,
   "metadata": {
    "id": "rH0oBl4dhlqX"
   },
   "outputs": [],
   "source": [
    "import numpy as np\n",
    "from sklearn.linear_model import BayesianRidge\n",
    "import pandas as pd\n",
    "from sklearn.model_selection import train_test_split\n",
    "import matplotlib.pyplot as plt\n",
    "import seaborn as sns"
   ]
  },
  {
   "cell_type": "markdown",
   "metadata": {
    "id": "g093Y0nr6zxk"
   },
   "source": [
    "# Classe BayesianLinearRegression"
   ]
  },
  {
   "cell_type": "code",
   "execution_count": 2,
   "metadata": {
    "id": "-ad_Rhxb4cFZ"
   },
   "outputs": [],
   "source": [
    "class BayesianLinearRegression:\n",
    "  def __init__(self, P = 1, m0 = None, S0 = None, std_e = 0.01, std_w = 1):\n",
    "    self.coef = np.array([])\n",
    "    self.dp = np.array([])\n",
    "    self.P = P\n",
    "    self.m0 = m0\n",
    "    self.S0 = S0\n",
    "    self.std_e = std_e\n",
    "    self.std_w = std_w\n",
    "\n",
    "  def func_base(self, X):\n",
    "    if self.P == 0: return X\n",
    "    novo_X = []\n",
    "    for i in range(X.shape[0]):\n",
    "      linha = [1]\n",
    "      try:\n",
    "        for elemento in X[i]:\n",
    "          for pot in range(1, self.P+1):\n",
    "            linha.append(elemento ** pot)\n",
    "      except:\n",
    "        for pot in range(1, self.P+1):\n",
    "          linha.append(X[i] ** pot)\n",
    "      novo_X.append(linha)\n",
    "\n",
    "    return np.array(novo_X)\n",
    "\n",
    "  def fit(self, X, y):\n",
    "    X_orig = X\n",
    "    X = self.func_base(X)\n",
    "\n",
    "    if self.m0 == None: self.m0 = np.zeros(X.shape[1])\n",
    "    else: self.m0 = m0\n",
    "\n",
    "    if self.S0 == None: self.S0 = np.eye(X.shape[1]) * self.std_w**2\n",
    "    else: self.S0 = S0\n",
    "\n",
    "\n",
    "    try:\n",
    "      I = np.eye(X.shape[1])\n",
    "    except:\n",
    "      I = np.eye(2)\n",
    "    m0 = self.m0\n",
    "    S0 = self.S0\n",
    "\n",
    "    std_e = self.std_e\n",
    "    std_w = self.std_w\n",
    "\n",
    "    #      (n,1) + ( (m,m) @ (m,n) @ (n,m) + (1,1) * (m,m) ) @ (m,m) @ (m,n)\n",
    "    coef = m0 + np.linalg.inv(S0 @ X.T @ X + (std_e/std_w)**2 * I) @ S0 @ X.T @ (y - X @ m0)\n",
    "    dp = S0 - np.linalg.inv(S0 @ X.T @ X + std_e**2 * I) @ S0 @ X.T @ X @ S0\n",
    "\n",
    "    self.coef = coef\n",
    "    self.dp = dp\n",
    "\n",
    "  def predict(self, X):\n",
    "    X = self.func_base(X)\n",
    "    dp = X @ self.dp @ X.T\n",
    "    return (X @ self.coef, dp + self.std_e**2 * np.eye(X.shape[0]) )\n"
   ]
  },
  {
   "cell_type": "markdown",
   "metadata": {},
   "source": [
    "# Questão 1"
   ]
  },
  {
   "cell_type": "code",
   "execution_count": 11,
   "metadata": {},
   "outputs": [],
   "source": [
    "df = pd.read_csv(\"linear_regression_data.csv\", header = None)\n",
    "df.columns = [\"x\",\"y\"]\n",
    "x = df[\"x\"]\n",
    "y = df[\"y\"]"
   ]
  },
  {
   "cell_type": "markdown",
   "metadata": {
    "id": "yKhWwDojy2Kg"
   },
   "source": [
    "## Regressão Linear - Resultados"
   ]
  },
  {
   "cell_type": "code",
   "execution_count": 12,
   "metadata": {
    "colab": {
     "base_uri": "https://localhost:8080/"
    },
    "id": "-5K9JoPl6wtS",
    "outputId": "1852c93e-35af-43c6-d326-de14b8a01a74"
   },
   "outputs": [
    {
     "name": "stdout",
     "output_type": "stream",
     "text": [
      "Classe criada:\n",
      "Coef: [-0.24238831  0.53190946]\n",
      "y_pred: [-0.03338067 -0.46989734 -0.53296891 -0.18779869 -0.00891307 -0.32418912\n",
      "  0.26905774 -0.04576294 -0.26267332 -0.35715574]\n",
      "std: [0.16073357 0.16694343 0.17167329 0.15731304 0.16183105 0.15947563\n",
      " 0.18357513 0.1602344  0.1578998  0.16071638]\n",
      "\n",
      "Sklearn:\n",
      "Coef: [-0.23136074  0.47009203]\n",
      "y_pred: [-0.04664355 -0.43242913 -0.48817065 -0.18311541 -0.02501951 -0.30365482\n",
      "  0.22064609 -0.05758677 -0.24928826 -0.33279013]\n",
      "std: [0.21137269 0.21853798 0.2241052  0.20730809 0.21267002 0.20979813\n",
      " 0.23846527 0.21078247 0.20797032 0.21124411]\n"
     ]
    }
   ],
   "source": [
    "model = BayesianLinearRegression(P = 1, std_e = 0.15)\n",
    "\n",
    "# Classe feita\n",
    "print(\"Classe criada:\")\n",
    "model.fit(x, y)\n",
    "y_pred, mat_cov = model.predict(x)\n",
    "dp = np.sqrt(mat_cov.diagonal())\n",
    "print(\"Coef:\",model.coef)\n",
    "print(\"y_pred:\",y_pred)\n",
    "print(\"std:\",dp)\n",
    "\n",
    "\n",
    "# SkLearn\n",
    "X_modificado = model.func_base(x)\n",
    "\n",
    "print(\"\\nSklearn:\")\n",
    "sklearn_model = BayesianRidge(fit_intercept = False)\n",
    "sklearn_model.fit(X_modificado,y)\n",
    "y_pred2, y_std2 = sklearn_model.predict(X_modificado, return_std = True)\n",
    "print(\"Coef:\",sklearn_model.coef_)\n",
    "print(\"y_pred:\",y_pred2)\n",
    "print(\"std:\",y_std2)"
   ]
  },
  {
   "cell_type": "markdown",
   "metadata": {
    "id": "LSH8vbbpvc1c"
   },
   "source": [
    "## Plotar grafico"
   ]
  },
  {
   "cell_type": "code",
   "execution_count": 13,
   "metadata": {
    "colab": {
     "base_uri": "https://localhost:8080/",
     "height": 690
    },
    "id": "_7p1HShSvb9x",
    "outputId": "0ca0612d-3e7e-4f62-929b-850ae8d5a246"
   },
   "outputs": [
    {
     "name": "stdout",
     "output_type": "stream",
     "text": [
      "           x         y     upper     lower\n",
      "0  -0.546297 -0.532969 -0.876315 -0.189622\n",
      "1  -0.531067 -0.524868 -0.866906 -0.182830\n",
      "2  -0.515836 -0.516766 -0.857523 -0.176010\n",
      "3  -0.500605 -0.508665 -0.848167 -0.169163\n",
      "4  -0.485375 -0.500564 -0.838839 -0.162288\n",
      "..       ...       ...       ...       ...\n",
      "95  0.900606  0.236653 -0.123869  0.597175\n",
      "96  0.915837  0.244754 -0.117391  0.606899\n",
      "97  0.931067  0.252855 -0.110936  0.616647\n",
      "98  0.946298  0.260956 -0.104503  0.626416\n",
      "99  0.961528  0.269058 -0.098093  0.636208\n",
      "\n",
      "[100 rows x 4 columns]\n"
     ]
    },
    {
     "data": {
      "text/plain": [
       "[<matplotlib.lines.Line2D at 0x1adb65fc650>]"
      ]
     },
     "execution_count": 13,
     "metadata": {},
     "output_type": "execute_result"
    },
    {
     "data": {
      "image/png": "[encoded data removed]",
      "text/plain": [
       "<Figure size 640x480 with 1 Axes>"
      ]
     },
     "metadata": {},
     "output_type": "display_data"
    }
   ],
   "source": [
    "plt.scatter(x, y)\n",
    "\n",
    "x_min = min(x)\n",
    "x_max = max(x)\n",
    "\n",
    "x_grafico = np.linspace(x_min, x_max, 100)\n",
    "y_grafico, mat_cov_grafico = model.predict(x_grafico)\n",
    "std = np.sqrt(mat_cov_grafico.diagonal())\n",
    "\n",
    "upper = y_grafico - 2 * std\n",
    "lower = y_grafico + 2 * std\n",
    "df = pd.DataFrame()\n",
    "df[\"x\"] = x_grafico\n",
    "df[\"y\"] = y_grafico\n",
    "df[\"upper\"] = upper\n",
    "df[\"lower\"] = lower\n",
    "\n",
    "\n",
    "df = df.sort_values(\"x\")\n",
    "print(df)\n",
    "\n",
    "\n",
    "plt.plot(df.x, df.y)\n",
    "plt.plot(df.x, df.lower, \"r--\")\n",
    "plt.plot(df.x, df.upper, \"r--\")"
   ]
  },
  {
   "cell_type": "markdown",
   "metadata": {
    "id": "aUf1-mqPZA9c"
   },
   "source": [
    "# Questão 2"
   ]
  },
  {
   "cell_type": "code",
   "execution_count": 6,
   "metadata": {
    "id": "azS-nJgKZAXY"
   },
   "outputs": [],
   "source": [
    "df = pd.read_csv(\"polynomial_regression_data.csv\", header = None)\n",
    "df.columns = [\"x\",\"y\"]\n",
    "x = df[\"x\"]\n",
    "y = df[\"y\"]"
   ]
  },
  {
   "cell_type": "markdown",
   "metadata": {
    "id": "65OneOveYyd3"
   },
   "source": [
    "## Regressão Polinomial - Resultados"
   ]
  },
  {
   "cell_type": "code",
   "execution_count": 7,
   "metadata": {
    "colab": {
     "base_uri": "https://localhost:8080/"
    },
    "id": "bN8VWPfDYywx",
    "outputId": "96eb3757-a202-4f93-f41b-6e75307a8226"
   },
   "outputs": [
    {
     "name": "stdout",
     "output_type": "stream",
     "text": [
      "Classe feita:\n",
      "Coef: [ 1.6198493  -2.33875947 -1.99040568 -0.55007657  0.90279931  2.07238824]\n",
      "y_pred: [-0.60831311  0.78481244  0.98408313 -0.17774278 -0.65656592  0.289353\n",
      " -0.39152627 -0.5812213   0.07512178  0.40413339]\n",
      "std: [0.2203514  0.22400586 0.23316981 0.21407013 0.22145288 0.21363896\n",
      " 0.27751998 0.21979071 0.21288233 0.21483687]\n",
      "\n",
      "Sklearn:\n",
      "Coef: [ 1.07769929  1.40198312 -5.79962826 -4.23374114  1.1106313   6.52836244]\n",
      "y_pred: [-0.85824341  0.92479336  1.05472121 -0.18649104 -0.93633005  0.43607788\n",
      " -0.16825471 -0.814292    0.16696197  0.56723316]\n",
      "std: [0.15456749 0.15539036 0.17348266 0.14955607 0.15746307 0.15111818\n",
      " 0.19211242 0.15329637 0.15113673 0.15065897]\n"
     ]
    }
   ],
   "source": [
    "model = BayesianLinearRegression(P = 5, std_e = 0.2)\n",
    "\n",
    "# Classe feita\n",
    "print(\"Classe feita:\")\n",
    "model.fit(x, y)\n",
    "y_pred, y_std = model.predict(x)\n",
    "dp = np.sqrt(y_std.diagonal())\n",
    "\n",
    "print(\"Coef:\",model.coef)\n",
    "print(\"y_pred:\",y_pred)\n",
    "print(\"std:\",dp)\n",
    "\n",
    "# SkLearn\n",
    "X_modificado = model.func_base(x)\n",
    "\n",
    "print(\"\\nSklearn:\")\n",
    "sklearn_model = BayesianRidge(fit_intercept = False)\n",
    "sklearn_model.fit(X_modificado,y)\n",
    "y_pred2, y_std2 = sklearn_model.predict(X_modificado, return_std = True)\n",
    "print(\"Coef:\",sklearn_model.coef_)\n",
    "print(\"y_pred:\",y_pred2)\n",
    "print(\"std:\",y_std2)"
   ]
  },
  {
   "cell_type": "markdown",
   "metadata": {
    "id": "AWjF4RZybARy"
   },
   "source": [
    "## Plotar grafico"
   ]
  },
  {
   "cell_type": "code",
   "execution_count": 8,
   "metadata": {
    "colab": {
     "base_uri": "https://localhost:8080/",
     "height": 690
    },
    "id": "q_W42jSBa_2W",
    "outputId": "3ff52a8e-e592-42e5-fdcb-c2e23f5433b8"
   },
   "outputs": [
    {
     "name": "stdout",
     "output_type": "stream",
     "text": [
      "           x         y     upper     lower\n",
      "0   0.226851  0.984083  0.517744  1.450423\n",
      "1   0.234467  0.959173  0.495551  1.422795\n",
      "2   0.242082  0.934052  0.473038  1.395067\n",
      "3   0.249697  0.908725  0.450209  1.367241\n",
      "4   0.257313  0.883197  0.427072  1.339321\n",
      "..       ...       ...       ...       ...\n",
      "95  0.950303 -0.529833 -1.045594 -0.014073\n",
      "96  0.957918 -0.498728 -1.022943  0.025487\n",
      "97  0.965534 -0.465348 -0.998888  0.068193\n",
      "98  0.973149 -0.429634 -0.973430  0.114163\n",
      "99  0.980764 -0.391526 -0.946566  0.163514\n",
      "\n",
      "[100 rows x 4 columns]\n"
     ]
    },
    {
     "data": {
      "text/plain": [
       "[<matplotlib.lines.Line2D at 0x1adb6502190>]"
      ]
     },
     "execution_count": 8,
     "metadata": {},
     "output_type": "execute_result"
    },
    {
     "data": {
      "image/png": "[encoded data removed]",
      "text/plain": [
       "<Figure size 640x480 with 1 Axes>"
      ]
     },
     "metadata": {},
     "output_type": "display_data"
    }
   ],
   "source": [
    "plt.scatter(x, y)\n",
    "\n",
    "x_min = min(x)\n",
    "x_max = max(x)\n",
    "\n",
    "x_grafico = np.linspace(x_min, x_max, 100)\n",
    "y_grafico, mat_cov_grafico = model.predict(x_grafico)\n",
    "std = np.sqrt(mat_cov_grafico.diagonal())\n",
    "\n",
    "upper = y_grafico - 2 * std\n",
    "lower = y_grafico + 2 * std\n",
    "df = pd.DataFrame()\n",
    "df[\"x\"] = x_grafico\n",
    "df[\"y\"] = y_grafico\n",
    "df[\"upper\"] = upper\n",
    "df[\"lower\"] = lower\n",
    "\n",
    "\n",
    "df = df.sort_values(\"x\")\n",
    "print(df)\n",
    "\n",
    "\n",
    "plt.plot(df.x, df.y)\n",
    "plt.plot(df.x, df.lower, \"r--\")\n",
    "plt.plot(df.x, df.upper, \"r--\")"
   ]
  },
  {
   "cell_type": "markdown",
   "metadata": {},
   "source": [
    "# Considerações finais:\n",
    "\n",
    "Não consegui pensar em uma forma de escolher a variância dos erros de forma automática então eu escolhi a partir da visualização dos gráficos.  \n",
    "Para a primeira questão o desvio padrão escolhido foi de 0.15.  \n",
    "Para a segunda questão o desvio padrão escolhido foi de 0.2.  \n",
    "Em ambos os casos as amostras ficaram dentro do intervalo de confiança de 95% percentil (equivalente a 2 desvios padrão).  \n",
    "  \n",
    "E para fins de comparação, eu incluí os resultados do modelo do Sklearn."
   ]
  }
 ],
 "metadata": {
  "colab": {
   "provenance": []
  },
  "kernelspec": {
   "display_name": "Python 3 (ipykernel)",
   "language": "python",
   "name": "python3"
  },
  "language_info": {
   "codemirror_mode": {
    "name": "ipython",
    "version": 3
   },
   "file_extension": ".py",
   "mimetype": "text/x-python",
   "name": "python",
   "nbconvert_exporter": "python",
   "pygments_lexer": "ipython3",
   "version": "3.11.5"
  }
 },
 "nbformat": 4,
 "nbformat_minor": 4
}
