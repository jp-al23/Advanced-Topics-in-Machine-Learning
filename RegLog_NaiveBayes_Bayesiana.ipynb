{
 "cells": [
  {
   "cell_type": "code",
   "execution_count": 1,
   "metadata": {
    "id": "bB45Y8dTAd4J"
   },
   "outputs": [],
   "source": [
    "import math\n",
    "import numpy as np\n",
    "import pandas as pd\n",
    "from sklearn.model_selection import train_test_split\n",
    "import matplotlib.pyplot as plt\n",
    "import seaborn as sns\n",
    "from sklearn.preprocessing import LabelEncoder, MinMaxScaler\n",
    "from sklearn.metrics import accuracy_score, confusion_matrix\n",
    "\n",
    "\n",
    "df1 = pd.read_csv(\"logistic_regression_data.csv\", header = None)\n",
    "df2 = pd.read_csv(\"votesDataset.csv\", header = None)\n",
    "\n",
    "def sigmoid(x):\n",
    "  return 1/(1 + np.exp(-x))\n",
    "\n",
    "def make_meshgrid(x, y, steps=100):\n",
    "    x_min, x_max = x.min() - 1, x.max() + 1\n",
    "    y_min, y_max = y.min() - 1, y.max() + 1\n",
    "    xx, yy = np.meshgrid(np.linspace(x_min, x_max, steps), np.linspace(y_min, y_max, steps))\n",
    "    return xx, yy\n",
    "\n",
    "def plot_contours(ax, clf, xx, yy, colors=['red', 'blue']):\n",
    "    labels = clf(np.c_[ xx.ravel(), yy.ravel() ]).reshape(xx.shape)\n",
    "    out = ax.contourf(xx, yy, labels, levels = np.linspace(0,1,11), cmap=plt.cm.RdBu, alpha=0.5) \n",
    "    cbar = plt.colorbar(out)\n",
    "    return out"
   ]
  },
  {
   "cell_type": "markdown",
   "metadata": {
    "id": "52vFR22sBoaA"
   },
   "source": [
    "# IRLS"
   ]
  },
  {
   "cell_type": "code",
   "execution_count": 2,
   "metadata": {
    "id": "fSwT73a4BouA"
   },
   "outputs": [],
   "source": [
    "class IRLS:\n",
    "  def __init__(self, P = 1, m0 = None, S0 = None, std_w = 1, n_it = 1, w0 = None):\n",
    "    self.media = np.array([])\n",
    "    self.dp = np.array([])\n",
    "    self.P = P\n",
    "    self.m0 = m0\n",
    "    self.S0 = S0\n",
    "    self.std_w = std_w\n",
    "    self.w0 = w0\n",
    "    self.n_it = n_it\n",
    "\n",
    "  def func_base(self, X):\n",
    "    if self.P == 0: return X\n",
    "    novo_X = []\n",
    "    for i in range(X.shape[0]):\n",
    "      linha = [1]\n",
    "      try:\n",
    "        for elemento in X[i]:\n",
    "          for pot in range(1, self.P+1):\n",
    "            linha.append(elemento ** pot)\n",
    "      except:\n",
    "        for pot in range(1, self.P+1):\n",
    "          linha.append(X[i] ** pot)\n",
    "      novo_X.append(linha)\n",
    "\n",
    "    return np.array(novo_X)\n",
    "\n",
    "  def fit(self, X, y):\n",
    "    X_orig = X\n",
    "    X = self.func_base(X)\n",
    "    y = y.reshape(-1,1)\n",
    "\n",
    "    if self.m0 == None: self.m0 = np.zeros(X.shape[1]).reshape(-1, 1)\n",
    "    if self.S0 == None: self.S0 = np.eye(X.shape[1]) * self.std_w**2\n",
    "    if self.w0 == None: self.w0 = np.ones(X.shape[1]).reshape(-1, 1)\n",
    "\n",
    "    try:\n",
    "      I = np.eye(X.shape[1])\n",
    "    except:\n",
    "      I = np.eye(2)\n",
    "\n",
    "    m0 = self.m0\n",
    "    S0 = self.S0\n",
    "    wi = self.w0\n",
    "\n",
    "    n,k = X.shape\n",
    "\n",
    "    std_w = self.std_w\n",
    "\n",
    "\n",
    "    for i in range(self.n_it):\n",
    "      Ri = sigmoid(wi.T @ X.T) * (1 - sigmoid(wi.T @ X.T))\n",
    "      Ri = np.eye(n) * Ri\n",
    "\n",
    "      A = X.T @ Ri @ X + np.linalg.inv(S0)\n",
    "      #   (k,1)       (k,k)         (n,k)         (n,1)                   (k,k)             (k,1)\n",
    "      #   (3,1)       (3,3)         (3,100)         (100,1)                   (3,3)             (3,1)\n",
    "      wi = wi + np.linalg.inv(A) @ ( X.T @ ( y - sigmoid(X @ wi) ) - np.linalg.inv(S0) @ ( wi - m0 ) )\n",
    "\n",
    "    self.w0 = wi\n",
    "\n",
    "  def predict(self, X):\n",
    "    X = self.func_base(X)\n",
    "    return sigmoid(X @ self.w0)\n"
   ]
  },
  {
   "cell_type": "markdown",
   "metadata": {
    "id": "Q3Osgp4tWFRC"
   },
   "source": [
    "# Regressão Logística Bayesiana"
   ]
  },
  {
   "cell_type": "code",
   "execution_count": 3,
   "metadata": {
    "id": "gwHNLVeWWFgq"
   },
   "outputs": [],
   "source": [
    "class BayesianLogisticRegression:\n",
    "  def __init__(self, P = 1, m0 = None, S0 = None, std_w = 1, n_it = 1, w0 = None):\n",
    "    self.media = np.array([])\n",
    "    self.dp = np.array([])\n",
    "    self.P = P\n",
    "    self.m0 = m0\n",
    "    self.S0 = S0\n",
    "    self.std_w = std_w\n",
    "    self.w0 = w0\n",
    "    self.n_it = n_it\n",
    "\n",
    "  def func_base(self, X):\n",
    "    if self.P == 0: return X\n",
    "    novo_X = []\n",
    "    for i in range(X.shape[0]):\n",
    "      linha = [1]\n",
    "      try:\n",
    "        for elemento in X[i]:\n",
    "          for pot in range(1, self.P+1):\n",
    "            linha.append(elemento ** pot)\n",
    "      except:\n",
    "        for pot in range(1, self.P+1):\n",
    "          linha.append(X[i] ** pot)\n",
    "      novo_X.append(linha)\n",
    "\n",
    "    return np.array(novo_X)\n",
    "\n",
    "  def fit(self, X, y):\n",
    "    X_orig = X\n",
    "    X = self.func_base(X)\n",
    "\n",
    "    if self.m0 == None: self.m0 = np.zeros(X.shape[1]).reshape(-1, 1)\n",
    "    if self.S0 == None: self.S0 = np.eye(X.shape[1]) * self.std_w**2\n",
    "    if self.w0 == None: self.w0 = np.ones(X.shape[1]).reshape(-1, 1)\n",
    "\n",
    "    try:\n",
    "      I = np.eye(X.shape[1])\n",
    "    except:\n",
    "      I = np.eye(2)\n",
    "\n",
    "    m0 = self.m0\n",
    "    S0 = self.S0\n",
    "    wi = self.w0\n",
    "\n",
    "    n,k = X.shape\n",
    "\n",
    "    std_w = self.std_w\n",
    "\n",
    "    model = IRLS(P = self.P, std_w = self.std_w, n_it = self.n_it)\n",
    "    model.fit(X[:,1:],y)\n",
    "    self.w0 = model.w0\n",
    "\n",
    "  def predict(self, X):\n",
    "    X = self.func_base(X)\n",
    "    n,m = X.shape\n",
    "    Ri = sigmoid(self.w0.T @ X.T) * (1 - sigmoid(self.w0.T @ X.T))\n",
    "    Ri = np.eye(n) * Ri\n",
    "    H = X.T @ Ri @ X + np.linalg.inv(self.S0)\n",
    "\n",
    "    media = (X @ self.w0).reshape(1, -1)\n",
    "    dp = X @ np.linalg.inv(H) @ X.T\n",
    "    dp = dp.diagonal().reshape(1, -1)\n",
    "\n",
    "    return sigmoid( np.sqrt(1 + math.pi * dp / 8) * media )\n",
    "\n",
    "\n"
   ]
  },
  {
   "cell_type": "markdown",
   "metadata": {
    "id": "68JTuRgcNMrU"
   },
   "source": [
    "## Testando o modelo"
   ]
  },
  {
   "cell_type": "code",
   "execution_count": 4,
   "metadata": {
    "colab": {
     "base_uri": "https://localhost:8080/"
    },
    "id": "Ij57CAu3ZduB",
    "outputId": "e4f63335-bfa0-4382-b5ca-a64efc28ccfb"
   },
   "outputs": [
    {
     "name": "stdout",
     "output_type": "stream",
     "text": [
      "Acurácia: 0.98\n",
      "    y_real    y_prob\n",
      "0        0  0.000622\n",
      "1        0  0.000190\n",
      "2        0  0.036287\n",
      "3        1  0.995471\n",
      "4        0  0.002650\n",
      "..     ...       ...\n",
      "95       1  0.885412\n",
      "96       0  0.016917\n",
      "97       1  0.975985\n",
      "98       1  0.845312\n",
      "99       0  0.186981\n",
      "\n",
      "[100 rows x 2 columns]\n"
     ]
    }
   ],
   "source": [
    "X = df1[[0,1]].to_numpy()\n",
    "y = df1[2].to_numpy().astype(int)\n",
    "\n",
    "\n",
    "model = BayesianLogisticRegression(n_it = 10)\n",
    "model.fit(X,y)\n",
    "y_pred = model.predict(X)\n",
    "df = pd.DataFrame()\n",
    "df[\"y_real\"] = y.reshape(-1)\n",
    "df[\"y_prob\"] = y_pred.reshape(-1)\n",
    "acuracia = accuracy_score(y.reshape(-1), np.round(y_pred).reshape(-1))\n",
    "print(\"Acurácia:\", acuracia)\n",
    "print(df)"
   ]
  },
  {
   "cell_type": "markdown",
   "metadata": {
    "id": "1_V2p68UNJnO"
   },
   "source": [
    "## Distribuiçaõ preditiva"
   ]
  },
  {
   "cell_type": "code",
   "execution_count": 5,
   "metadata": {
    "colab": {
     "base_uri": "https://localhost:8080/",
     "height": 451
    },
    "id": "846HluGcNLk3",
    "outputId": "2b9ebfac-f9e4-423f-c716-a4dc35e3854e"
   },
   "outputs": [
    {
     "data": {
      "image/png": "[encoded data removed]",
      "text/plain": [
       "<Figure size 800x600 with 2 Axes>"
      ]
     },
     "metadata": {},
     "output_type": "display_data"
    }
   ],
   "source": [
    "labels = [0,1]\n",
    "colors = ['red', 'blue']\n",
    "fig, ax = plt.subplots(figsize=(8,6))\n",
    "for label in labels:\n",
    "    plt.scatter(X[y == label,0], X[y == label,1], s=60, marker='o', color=colors[label])\n",
    "xx, yy = make_meshgrid(X[:,0], X[:,1])\n",
    "plot_contours(ax, clf=lambda x: model.predict(x), xx=xx, yy=yy, colors=colors)\n",
    "plt.show()"
   ]
  },
  {
   "cell_type": "markdown",
   "metadata": {
    "id": "pvmxPBfvc248"
   },
   "source": [
    "# Naive Bayes"
   ]
  },
  {
   "cell_type": "code",
   "execution_count": 6,
   "metadata": {
    "id": "G14lzTBIc3FD"
   },
   "outputs": [],
   "source": [
    "class NaiveBayes:\n",
    "  def __init__(self, a = 1, b = 1, alfa = 1, abordagem_alfa = \"uniforme\"):\n",
    "    self.a = a\n",
    "    self.b = b\n",
    "    self.alfa = alfa\n",
    "    self.abordagem_alfa = abordagem_alfa\n",
    "\n",
    "  def fit(self, X, y):\n",
    "    n,k = X.shape\n",
    "    c = len(np.unique(y))\n",
    "    self.c = c\n",
    "    df = pd.DataFrame(X)\n",
    "    df[\"y\"] = y\n",
    "\n",
    "    g1, g2 = df.groupby(by = \"y\")\n",
    "    g1 = g1[1].drop(\"y\", axis = 1)\n",
    "    n1 = len(g1)\n",
    "    g2 = g2[1].drop(\"y\", axis = 1)\n",
    "    n2 = len(g2)\n",
    "\n",
    "    self.matriz_N = np.array(pd.concat([g1.sum(), g2.sum()], axis = 1).astype(int))\n",
    "\n",
    "\n",
    "    THETA = []\n",
    "    for d_ in range(k):\n",
    "      linha = []\n",
    "      for c_ in range(c):\n",
    "        linha.append( (self.matriz_N[d_,c_] + self.b) / ([n1,n2][c_] + self.a + self.b) )\n",
    "      THETA.append(linha)\n",
    "    self.THETA = np.array(THETA)\n",
    "\n",
    "    if self.abordagem_alfa == \"dados\":\n",
    "      self.alfas = np.array([ n1 / n * self.alfa, n2 / n * self.alfa ])\n",
    "    else:\n",
    "      self.alfas = np.ones(c)*self.alfa\n",
    "\n",
    "    soma_alfas = np.sum( self.alfas )\n",
    "    self.pesos = np.array( [ ([n1,n2][i] + self.alfas[i]) / (n + soma_alfas) for i in range(c) ] )\n",
    "\n",
    "  def predict(self, X):\n",
    "    y_pred = []\n",
    "\n",
    "    for x in X:\n",
    "      p_c = []\n",
    "      for c_ in range(self.c):\n",
    "        soma = math.log( self.pesos[c_] )\n",
    "        for d_ in range(X.shape[1]):\n",
    "          if x[d_] == 1:\n",
    "            soma += math.log( self.THETA[d_, c_] )\n",
    "          else:\n",
    "            soma += math.log( 1 - self.THETA[d_, c_] )\n",
    "        p_c.append(soma)\n",
    "      y_pred.append(p_c)\n",
    "    return np.argmax(np.array(y_pred), axis = 1)"
   ]
  },
  {
   "cell_type": "markdown",
   "metadata": {
    "id": "49Yqv8ThdiFl"
   },
   "source": [
    "## Testando o modelo"
   ]
  },
  {
   "cell_type": "code",
   "execution_count": 7,
   "metadata": {
    "colab": {
     "base_uri": "https://localhost:8080/",
     "height": 490
    },
    "id": "tfAFXRv-diTt",
    "outputId": "1a2cbfff-277c-4e3b-a429-38c4b8c98208"
   },
   "outputs": [
    {
     "name": "stdout",
     "output_type": "stream",
     "text": [
      "Acurácia: 0.8896551724137931\n"
     ]
    }
   ],
   "source": [
    "le = LabelEncoder()\n",
    "\n",
    "X = df2.drop(0, axis = 1).to_numpy()[1:]\n",
    "y = df2[0].to_numpy()[1:]\n",
    "y_encoded = le.fit_transform(y)\n",
    "\n",
    "model = NaiveBayes(a = 1, b = 1, alfa = 1, abordagem_alfa = \"dados\")\n",
    "model.fit(X,y_encoded)\n",
    "y_pred = model.predict(X)\n",
    "\n",
    "df = pd.DataFrame()\n",
    "df[\"y_real\"] = y_encoded\n",
    "df[\"y_predito\"] = y_pred\n",
    "acuracia = accuracy_score(y_encoded, y_pred)\n",
    "print(\"Acurácia:\", acuracia)"
   ]
  },
  {
   "cell_type": "markdown",
   "metadata": {},
   "source": [
    "## Matriz de confusão"
   ]
  },
  {
   "cell_type": "code",
   "execution_count": 8,
   "metadata": {},
   "outputs": [
    {
     "data": {
      "image/png": "[encoded data removed]",
      "text/plain": [
       "<Figure size 640x480 with 1 Axes>"
      ]
     },
     "metadata": {},
     "output_type": "display_data"
    }
   ],
   "source": [
    "matriz = confusion_matrix(y_encoded, y_pred)\n",
    "sns.heatmap(matriz, annot=True, fmt='d', cmap='Blues', cbar=False)\n",
    "plt.xlabel('Classe Prevista')\n",
    "plt.ylabel('Classe Real')\n",
    "plt.title('Matriz de Confusão')\n",
    "plt.show()\n"
   ]
  }
 ],
 "metadata": {
  "colab": {
   "provenance": []
  },
  "kernelspec": {
   "display_name": "Python 3 (ipykernel)",
   "language": "python",
   "name": "python3"
  },
  "language_info": {
   "codemirror_mode": {
    "name": "ipython",
    "version": 3
   },
   "file_extension": ".py",
   "mimetype": "text/x-python",
   "name": "python",
   "nbconvert_exporter": "python",
   "pygments_lexer": "ipython3",
   "version": "3.11.5"
  }
 },
 "nbformat": 4,
 "nbformat_minor": 4
}
