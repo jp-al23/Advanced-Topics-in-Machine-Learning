{
  "nbformat": 4,
  "nbformat_minor": 0,
  "metadata": {
    "colab": {
      "provenance": [],
      "collapsed_sections": [
        "_Jc99Rk6ZzIT"
      ],
      "toc_visible": true
    },
    "kernelspec": {
      "name": "python3",
      "display_name": "Python 3"
    },
    "language_info": {
      "name": "python"
    }
  },
  "cells": [
    {
      "cell_type": "markdown",
      "source": [
        "**Passos do Projeto:**\n",
        "\n",
        "1. Pré-processamento de dados: Limpar e normalizar os dados. Lidar com valores ausentes, remover outliers, etc.\n",
        "\n",
        "2. Engenharia de recursos: Criar novos recursos que possam ser informativos para o modelo.\n",
        "\n",
        "3. Treinamento do modelo: Treina os modelos (GMM, PPCA, FA, Variational Autoencoder) com os dados das pessoas saudáveis.\n",
        "\n",
        "4.  Detecção de anomalias: Usa o modelo treinado para identificar os não saudáveis. Aqueles que o modelo tem dificuldade em reconstruir podem ser considerados anomalias (ou seja, possíveis portadores de doenças renais crônicas).\n",
        "\n",
        "5. Avaliação do modelo: Usa as métricas apropriadas para avaliar o desempenho do modelo. Isso pode incluir a curva ROC, a área sob a curva ROC (AUC), a precisão, o recall, o F1-score, etc.\n",
        "\n"
      ],
      "metadata": {
        "id": "7JJRmP-VgNT9"
      }
    },
    {
      "cell_type": "markdown",
      "source": [
        "# **Instalações e Importações**"
      ],
      "metadata": {
        "id": "_Jc99Rk6ZzIT"
      }
    },
    {
      "cell_type": "code",
      "source": [
        "!pip install miceforest"
      ],
      "metadata": {
        "colab": {
          "base_uri": "https://localhost:8080/"
        },
        "id": "GeLfxSau7f4U",
        "outputId": "5c1297a1-0fa3-40d3-9aa7-dbe2471d574a"
      },
      "execution_count": null,
      "outputs": [
        {
          "output_type": "stream",
          "name": "stdout",
          "text": [
            "Collecting miceforest\n",
            "  Downloading miceforest-5.7.0-py3-none-any.whl (58 kB)\n",
            "\u001b[2K     \u001b[90m━━━━━━━━━━━━━━━━━━━━━━━━━━━━━━━━━━━━━━━━\u001b[0m \u001b[32m58.2/58.2 kB\u001b[0m \u001b[31m756.0 kB/s\u001b[0m eta \u001b[36m0:00:00\u001b[0m\n",
            "\u001b[?25hRequirement already satisfied: lightgbm>=3.3.1 in /usr/local/lib/python3.10/dist-packages (from miceforest) (4.1.0)\n",
            "Requirement already satisfied: numpy in /usr/local/lib/python3.10/dist-packages (from miceforest) (1.23.5)\n",
            "Collecting blosc (from miceforest)\n",
            "  Downloading blosc-1.11.1-cp310-cp310-manylinux_2_17_x86_64.manylinux2014_x86_64.whl (2.5 MB)\n",
            "\u001b[2K     \u001b[90m━━━━━━━━━━━━━━━━━━━━━━━━━━━━━━━━━━━━━━━━\u001b[0m \u001b[32m2.5/2.5 MB\u001b[0m \u001b[31m13.3 MB/s\u001b[0m eta \u001b[36m0:00:00\u001b[0m\n",
            "\u001b[?25hCollecting dill (from miceforest)\n",
            "  Downloading dill-0.3.7-py3-none-any.whl (115 kB)\n",
            "\u001b[2K     \u001b[90m━━━━━━━━━━━━━━━━━━━━━━━━━━━━━━━━━━━━━━━━\u001b[0m \u001b[32m115.3/115.3 kB\u001b[0m \u001b[31m11.8 MB/s\u001b[0m eta \u001b[36m0:00:00\u001b[0m\n",
            "\u001b[?25hRequirement already satisfied: scipy in /usr/local/lib/python3.10/dist-packages (from lightgbm>=3.3.1->miceforest) (1.11.4)\n",
            "Installing collected packages: dill, blosc, miceforest\n",
            "Successfully installed blosc-1.11.1 dill-0.3.7 miceforest-5.7.0\n"
          ]
        }
      ]
    },
    {
      "cell_type": "code",
      "source": [
        "from google.colab import drive\n",
        "drive.mount('/content/drive')"
      ],
      "metadata": {
        "colab": {
          "base_uri": "https://localhost:8080/"
        },
        "id": "AQWOqiC97pKh",
        "outputId": "f5eb23e6-a126-4bf5-bdbc-a7a7e13cf4e8"
      },
      "execution_count": null,
      "outputs": [
        {
          "output_type": "stream",
          "name": "stdout",
          "text": [
            "Mounted at /content/drive\n"
          ]
        }
      ]
    },
    {
      "cell_type": "code",
      "source": [
        "import pandas as pd\n",
        "import numpy as np\n",
        "import warnings\n",
        "\n",
        "# Ignorar todos os warnings\n",
        "warnings.filterwarnings(\"ignore\")\n",
        "\n",
        "# https://www.kaggle.com/datasets/colearninglounge/chronic-kidney-disease?select=kidney_disease_train.csv\n",
        "path_train = '/content/drive/MyDrive/kidney_disease_train.csv'\n",
        "path_test = '/content/drive/MyDrive/kidney_disease_test.csv'\n",
        "df = pd.read_csv(path_train)"
      ],
      "metadata": {
        "id": "HS_RDWdIZw3j"
      },
      "execution_count": null,
      "outputs": []
    },
    {
      "cell_type": "markdown",
      "source": [
        "# **Tratamento do Dados**"
      ],
      "metadata": {
        "id": "5MV01O_-Z6_q"
      }
    },
    {
      "cell_type": "code",
      "execution_count": null,
      "metadata": {
        "colab": {
          "base_uri": "https://localhost:8080/"
        },
        "id": "4O0EPJ2_aYbc",
        "outputId": "52897778-37cd-415f-c430-3549a2570f8d"
      },
      "outputs": [
        {
          "output_type": "stream",
          "name": "stdout",
          "text": [
            "<class 'pandas.core.frame.DataFrame'>\n",
            "RangeIndex: 280 entries, 0 to 279\n",
            "Data columns (total 26 columns):\n",
            " #   Column          Non-Null Count  Dtype  \n",
            "---  ------          --------------  -----  \n",
            " 0   id              280 non-null    int64  \n",
            " 1   age             275 non-null    float64\n",
            " 2   bp              271 non-null    float64\n",
            " 3   sg              244 non-null    float64\n",
            " 4   al              245 non-null    float64\n",
            " 5   su              242 non-null    float64\n",
            " 6   rbc             173 non-null    object \n",
            " 7   pc              230 non-null    object \n",
            " 8   pcc             276 non-null    object \n",
            " 9   ba              276 non-null    object \n",
            " 10  bgr             247 non-null    float64\n",
            " 11  bu              266 non-null    float64\n",
            " 12  sc              268 non-null    float64\n",
            " 13  sod             213 non-null    float64\n",
            " 14  pot             212 non-null    float64\n",
            " 15  hemo            241 non-null    float64\n",
            " 16  pcv             229 non-null    float64\n",
            " 17  wc              202 non-null    float64\n",
            " 18  rc              186 non-null    float64\n",
            " 19  htn             279 non-null    object \n",
            " 20  dm              279 non-null    object \n",
            " 21  cad             279 non-null    object \n",
            " 22  appet           280 non-null    object \n",
            " 23  pe              280 non-null    object \n",
            " 24  ane             280 non-null    object \n",
            " 25  classification  280 non-null    object \n",
            "dtypes: float64(14), int64(1), object(11)\n",
            "memory usage: 57.0+ KB\n",
            "None\n",
            "['yes' 'no' nan]\n"
          ]
        }
      ],
      "source": [
        "\n",
        "\n",
        "def f(x):\n",
        "  if pd.isna(x):\n",
        "    return x\n",
        "  else:\n",
        "    nova_string = x.replace(\"\\t\",\"\")\n",
        "    if nova_string == \"?\": return np.nan\n",
        "    else: return nova_string\n",
        "\n",
        "\n",
        "df[\"wc\"] = df[\"wc\"].apply(f).astype(float)\n",
        "df[\"rc\"] = df[\"rc\"].apply(f).astype(float)\n",
        "df[\"dm\"] = df[\"dm\"].apply(f)\n",
        "df[\"cad\"] = df[\"cad\"].apply(f)\n",
        "\n",
        "print(df.info())\n",
        "print(df[\"dm\"].unique())\n"
      ]
    },
    {
      "cell_type": "markdown",
      "source": [
        "MICE Dados Faltantes"
      ],
      "metadata": {
        "id": "qawTX9ft6u84"
      }
    },
    {
      "cell_type": "code",
      "source": [
        "from miceforest import ImputationKernel\n",
        "from miceforest import MeanMatchScheme\n",
        "from miceforest import (\n",
        "  mean_match_default,\n",
        "  mean_match_fast_cat,\n",
        "  mean_match_shap\n",
        ")\n",
        "df_dummy = pd.get_dummies(df)\n",
        "# print(df_dummy)\n",
        "# print(*df_dummy.columns)\n",
        "# print(df_dummy.info())\n",
        "mice_kernel = ImputationKernel(\n",
        "    data = df_dummy,\n",
        "    categorical_feature='auto',\n",
        "    save_all_iterations = True,\n",
        "    random_state = 2023\n",
        ")\n",
        "mice_kernel.mice(5, verbose=True)\n",
        "df_input = mice_kernel.complete_data()"
      ],
      "metadata": {
        "colab": {
          "base_uri": "https://localhost:8080/"
        },
        "id": "-Mkfe5XI6xJ8",
        "outputId": "c4006172-7759-45e7-ccb7-ae7166185beb"
      },
      "execution_count": null,
      "outputs": [
        {
          "output_type": "stream",
          "name": "stdout",
          "text": [
            "Initialized logger with name mice 1-5\n",
            "Dataset 0\n",
            "1  | age | bp | sc | bu | bgr | al | sg | su | hemo | pcv | sod | pot | wc | rc\n",
            "2  | age | bp | sc | bu | bgr | al | sg | su | hemo | pcv | sod | pot | wc | rc\n",
            "3  | age | bp | sc | bu | bgr | al | sg | su | hemo | pcv | sod | pot | wc | rc\n",
            "4  | age | bp | sc | bu | bgr | al | sg | su | hemo | pcv | sod | pot | wc | rc\n",
            "5  | age | bp | sc | bu | bgr | al | sg | su | hemo | pcv | sod | pot | wc | rc\n"
          ]
        }
      ]
    },
    {
      "cell_type": "code",
      "source": [
        "df_dummy.isna().sum()"
      ],
      "metadata": {
        "colab": {
          "base_uri": "https://localhost:8080/"
        },
        "id": "ptcT6Rxj9S0V",
        "outputId": "350d0c68-e09a-4e9d-80e7-6f40ce6c243d"
      },
      "execution_count": null,
      "outputs": [
        {
          "output_type": "execute_result",
          "data": {
            "text/plain": [
              "id                        0\n",
              "age                       5\n",
              "bp                        9\n",
              "sg                       36\n",
              "al                       35\n",
              "su                       38\n",
              "bgr                      33\n",
              "bu                       14\n",
              "sc                       12\n",
              "sod                      67\n",
              "pot                      68\n",
              "hemo                     39\n",
              "pcv                      51\n",
              "wc                       78\n",
              "rc                       94\n",
              "rbc_abnormal              0\n",
              "rbc_normal                0\n",
              "pc_abnormal               0\n",
              "pc_normal                 0\n",
              "pcc_notpresent            0\n",
              "pcc_present               0\n",
              "ba_notpresent             0\n",
              "ba_present                0\n",
              "htn_no                    0\n",
              "htn_yes                   0\n",
              "dm_no                     0\n",
              "dm_yes                    0\n",
              "cad_no                    0\n",
              "cad_yes                   0\n",
              "appet_good                0\n",
              "appet_poor                0\n",
              "pe_no                     0\n",
              "pe_yes                    0\n",
              "ane_no                    0\n",
              "ane_yes                   0\n",
              "classification_ckd        0\n",
              "classification_notckd     0\n",
              "dtype: int64"
            ]
          },
          "metadata": {},
          "execution_count": 6
        }
      ]
    },
    {
      "cell_type": "code",
      "source": [
        "df['age'].unique()"
      ],
      "metadata": {
        "colab": {
          "base_uri": "https://localhost:8080/"
        },
        "id": "b4y7DyJK-Coc",
        "outputId": "e0adad4d-50ad-4d89-da3d-94e74aa435ae"
      },
      "execution_count": null,
      "outputs": [
        {
          "output_type": "execute_result",
          "data": {
            "text/plain": [
              "array([62., 54., 47., 43., 42., 60., 29., 34., 48., 56., 57., 65., 80.,\n",
              "       59., 50., 33., 76., 41., 49., 67., 68., 23., 52.,  8., 46., 45.,\n",
              "       35., 17., 70., 71., 39., 64., 26., 72., 21., 61., 40., 58., 53.,\n",
              "       28., 25., 32., 44., 24., 30., nan, 20., 75., 69., 63.,  4., 74.,\n",
              "       73., 14., 37., 66., 55., 51., 83.,  2., 11., 90., 15.,  6.,  7.,\n",
              "       22., 27., 12.,  3., 81., 38.])"
            ]
          },
          "metadata": {},
          "execution_count": 7
        }
      ]
    },
    {
      "cell_type": "markdown",
      "source": [
        "# Normalização"
      ],
      "metadata": {
        "id": "0lVdquXuiuLV"
      }
    },
    {
      "cell_type": "code",
      "source": [
        "def min_max_normalize(df):\n",
        "    df_normalized = df.copy()\n",
        "\n",
        "    for column in df.columns:\n",
        "        min_value = df[column].min()\n",
        "        max_value = df[column].max()\n",
        "\n",
        "        # Fórmula da normalização Min-Max: (x - min) / (max - min)\n",
        "        df_normalized[column] = (df[column] - min_value) / (max_value - min_value)\n",
        "\n",
        "    return df_normalized\n",
        "\n",
        "df_input = min_max_normalize(df_input)"
      ],
      "metadata": {
        "id": "N-RWWf1F9F0H"
      },
      "execution_count": null,
      "outputs": []
    },
    {
      "cell_type": "markdown",
      "source": [
        "# **Algoritmos não Neurais**"
      ],
      "metadata": {
        "id": "jMQsftd65GpX"
      }
    },
    {
      "cell_type": "markdown",
      "source": [
        "## **GMM**"
      ],
      "metadata": {
        "id": "uEpahAHk5UkC"
      }
    },
    {
      "cell_type": "code",
      "source": [
        "from sklearn.mixture import GaussianMixture\n",
        "from sklearn.model_selection import KFold\n",
        "from sklearn.metrics import roc_auc_score, f1_score, precision_score, recall_score, accuracy_score\n",
        "\n",
        "\n",
        "# Variáveis categóricas para GMM ?\n",
        "\n",
        "# X = df_input[ df_input[\"classification_notckd\"] == 1 ].iloc[:,:-2].to_numpy() # Filtrando apenas saudáveis\n",
        "# n_componentes = range(1,11)\n",
        "# for n in n_componentes:\n",
        "#     gmm = GaussianMixture(n_components=n, n_init = 5)\n",
        "#     gmm.fit(X)\n",
        "\n",
        "#     log_likelihood = gmm.score(X)\n",
        "\n",
        "X = df_input.drop(['classification_notckd', 'classification_ckd','id'],axis=1)\n",
        "y = df_input['classification_ckd']\n",
        "#X_nao_saudavel = X[ y==0 ]\n",
        "\n",
        "kf = KFold(n_splits=5, random_state=42, shuffle=True)\n"
      ],
      "metadata": {
        "id": "EWMWKAdz5cfy"
      },
      "execution_count": null,
      "outputs": []
    },
    {
      "cell_type": "markdown",
      "source": [
        "### Detecção de Anomalias"
      ],
      "metadata": {
        "id": "WqgLOM9OGm5Y"
      }
    },
    {
      "cell_type": "code",
      "source": [
        "auc_scores = []\n",
        "f1_scores = []\n",
        "precision_scores = []\n",
        "recall_scores = []\n",
        "accuracy_scores = []\n",
        "\n",
        "\n",
        "for train_index, test_index in kf.split(X):\n",
        "    X_train, X_test = X.iloc[train_index], X.iloc[test_index]\n",
        "    y_train, y_test = y.iloc[train_index], y.iloc[test_index]\n",
        "\n",
        "    # Obtém apenas os dados das pessoas saudáveis para treinar o modelo\n",
        "    X_train_saudavel = X_train[y_train == 0]\n",
        "\n",
        "    # Treina o modelo GMM\n",
        "    gmm = GaussianMixture(n_components=10, random_state=42)\n",
        "    gmm.fit(X_train_saudavel)\n",
        "\n",
        "    # Usa o log da probabilidade para detecção de anomalias\n",
        "    log_prob_test = gmm.score_samples(X_test)\n",
        "    anomaly_score = -log_prob_test\n",
        "    limiar = np.percentile(gmm.score_samples(X_train), 99)\n",
        "    y_pred_test = np.where(anomaly_score < limiar, 0, 1)\n",
        "\n",
        "\n",
        "   # Calcula as métricas e armazena os resultados\n",
        "    auc_scores.append(roc_auc_score(y_test, anomaly_score))\n",
        "    accuracy_scores.append(accuracy_score(y_test, y_pred_test))\n",
        "    f1_scores.append(f1_score(y_test, y_pred_test, pos_label=0))  # A classe positiva é 0\n",
        "    precision_scores.append(precision_score(y_test, y_pred_test, pos_label=0))  # A classe positiva é 0\n",
        "    recall_scores.append(recall_score(y_test, y_pred_test, pos_label=0))  # A classe positiva é 0\n",
        "\n",
        "\n"
      ],
      "metadata": {
        "id": "1OgwvUXBl00x"
      },
      "execution_count": null,
      "outputs": []
    },
    {
      "cell_type": "markdown",
      "source": [
        "### Métricas"
      ],
      "metadata": {
        "id": "-N43m61lGpPp"
      }
    },
    {
      "cell_type": "code",
      "source": [
        "\n",
        "# Imprime as médias das métricas\n",
        "print(f'Média AUC: {np.mean(auc_scores)}')\n",
        "print(f'Média Accuracy: {np.mean(accuracy_scores)}')\n",
        "print(f'Média F1 Score: {np.mean(f1_scores)}')\n",
        "print(f'Média Precision: {np.mean(precision_scores)}')\n",
        "print(f'Média Recall: {np.mean(recall_scores)}')\n",
        "\n",
        "df_gmm = pd.DataFrame([np.mean(auc_scores), np.mean(accuracy_scores), np.mean(f1_scores), np.mean(precision_scores), np.mean(recall_scores)]).T\n",
        "df_gmm.columns = [\"Auc\", \"Accuracy\",\"F1\",\"Precision\",\"Recall\"]\n",
        "df_gmm.index = [\"GMM\"]"
      ],
      "metadata": {
        "colab": {
          "base_uri": "https://localhost:8080/"
        },
        "id": "cE_HXlyNmes9",
        "outputId": "4b6a2f3e-b708-4198-8cf2-3c16a8258d28"
      },
      "execution_count": null,
      "outputs": [
        {
          "output_type": "stream",
          "name": "stdout",
          "text": [
            "Média AUC: 0.9986740710270123\n",
            "Média Accuracy: 0.9535714285714285\n",
            "Média F1 Score: 0.9392175246756528\n",
            "Média Precision: 1.0\n",
            "Média Recall: 0.8885055685055685\n"
          ]
        }
      ]
    },
    {
      "cell_type": "code",
      "source": [
        "from sklearn.metrics import confusion_matrix\n",
        "import seaborn as sns\n",
        "import matplotlib.pyplot as plt\n",
        "\n",
        "# Gera a matriz de confusão\n",
        "cm = confusion_matrix(y_test, y_pred_test)\n",
        "\n",
        "# Cria um DataFrame a partir da matriz de confusão para facilitar a plotagem\n",
        "cm_df = pd.DataFrame(cm, index=['Saudável', 'Não saudável'], columns=['Saudável', 'Não saudável'])\n",
        "\n",
        "plt.figure(figsize=(10,7))\n",
        "sns.heatmap(cm_df, annot=True, cmap='YlGnBu')\n",
        "plt.title('Matriz de Confusão')\n",
        "plt.ylabel('Verdadeiro')\n",
        "plt.xlabel('Previsto')\n",
        "plt.show()\n"
      ],
      "metadata": {
        "colab": {
          "base_uri": "https://localhost:8080/",
          "height": 641
        },
        "id": "W_dRRmdqoqAV",
        "outputId": "7b9f6a1d-a937-467b-bd07-fd572f81e444"
      },
      "execution_count": null,
      "outputs": [
        {
          "output_type": "display_data",
          "data": {
            "text/plain": [
              "<Figure size 1000x700 with 2 Axes>"
            ],
            "image/png": "[encoded data removed]"
          },
          "metadata": {}
        }
      ]
    },
    {
      "cell_type": "markdown",
      "source": [
        "## **PCA (apenas para comparação)**"
      ],
      "metadata": {
        "id": "NOC8kxKwF7RD"
      }
    },
    {
      "cell_type": "markdown",
      "source": [
        "### Plotar 2D"
      ],
      "metadata": {
        "id": "CEz5PukeGAxg"
      }
    },
    {
      "cell_type": "code",
      "source": [
        "from sklearn.decomposition import PCA\n",
        "\n",
        "pca = PCA(n_components=2)\n",
        "X_pca = pca.fit_transform(X)\n",
        "\n",
        "plt.scatter(X_pca[y == 0,0],X_pca[y == 0,1] , c= \"b\")\n",
        "plt.scatter(X_pca[y == 1,0],X_pca[y == 1,1] , c= \"r\")\n",
        "plt.show()"
      ],
      "metadata": {
        "colab": {
          "base_uri": "https://localhost:8080/",
          "height": 430
        },
        "id": "E6OVjTZUF_cB",
        "outputId": "a308c44f-f118-4276-e0dc-a7244d7ff4d6"
      },
      "execution_count": null,
      "outputs": [
        {
          "output_type": "display_data",
          "data": {
            "text/plain": [
              "<Figure size 640x480 with 1 Axes>"
            ],
            "image/png": "[encoded data removed]"
          },
          "metadata": {}
        }
      ]
    },
    {
      "cell_type": "markdown",
      "source": [
        "### Detecção de Anomalias"
      ],
      "metadata": {
        "id": "Af7AQ7HMF_ov"
      }
    },
    {
      "cell_type": "code",
      "source": [
        "from sklearn.neighbors import KernelDensity\n",
        "from sklearn.model_selection import GridSearchCV\n",
        "\n",
        "df_pca = pd.DataFrame(columns = [\"Auc\", \"Accuracy\",\"F1\",\"Precision\",\"Recall\"])\n",
        "\n",
        "n = 10\n",
        "n_fatores_range = range(2,n+1)\n",
        "print(\"Testar para\",n,\"Componentes:\")\n",
        "for n_fatores in n_fatores_range:\n",
        "  auc_scores = []\n",
        "  accuracy_scores = []\n",
        "  f1_scores = []\n",
        "  precision_scores = []\n",
        "  recall_scores = []\n",
        "  for train_index, test_index in kf.split(X):\n",
        "    X_train, X_test = X.iloc[train_index], X.iloc[test_index]\n",
        "    y_train, y_test = y.iloc[train_index], y.iloc[test_index]\n",
        "\n",
        "    X_train_saudavel = X_train[y_train == 0]\n",
        "\n",
        "    pca = PCA(n_components=n_fatores)\n",
        "    pca.fit(X_train)\n",
        "\n",
        "    # Erro de reconstrução treino\n",
        "    X_train_pca = pca.transform(X_train)\n",
        "    residuals_train = X_train - np.dot(X_train_pca, pca.components_)\n",
        "\n",
        "    # Calcular a função de densidade\n",
        "    params = {'bandwidth': np.logspace(-1, 1, 20),\n",
        "              'kernel': [\"gaussian\", \"tophat\"]\n",
        "              }\n",
        "\n",
        "    grid = GridSearchCV(KernelDensity(), params, cv=5)\n",
        "    grid.fit(residuals_train)\n",
        "    kd = grid.best_estimator_\n",
        "\n",
        "    anomaly_scores_train = -kd.score_samples(residuals_train)\n",
        "    threshold = np.percentile(anomaly_scores_train, 99)\n",
        "\n",
        "    # Conjunto de teste\n",
        "    X_test_pca = pca.transform(X_test)\n",
        "    residuals_test = X_test - np.dot(X_test_pca, pca.components_)\n",
        "    anomaly_scores = -kd.score_samples(residuals_test)\n",
        "    anomalies = (anomaly_scores > threshold).astype(int)\n",
        "\n",
        "    auc_scores.append(roc_auc_score(y_test, anomaly_scores))\n",
        "    accuracy_scores.append(accuracy_score(y_test, anomalies))\n",
        "    f1_scores.append(f1_score(y_test, anomalies))\n",
        "    precision_scores.append(precision_score(y_test, anomalies))\n",
        "    recall_scores.append(recall_score(y_test, anomalies))\n",
        "\n",
        "  auc_scores = np.array(auc_scores)\n",
        "  accuracy_scores = np.array(accuracy_scores)\n",
        "  f1_scores = np.array(f1_scores)\n",
        "  precision_scores = np.array(precision_scores)\n",
        "  recall_scores = np.array(recall_scores)\n",
        "\n",
        "  auc = np.mean(auc_scores)\n",
        "  accuracy = np.mean(accuracy_scores)\n",
        "  f1 = np.mean(f1_scores)\n",
        "  precision = np.mean(precision_scores)\n",
        "  recall = np.mean(recall_scores)\n",
        "\n",
        "  nova_linha = pd.DataFrame([auc, accuracy, f1, precision, recall], index = [\"Auc\", \"Accuracy\",\"F1\",\"Precision\",\"Recall\"], columns = [\"PCA {} Components\".format(n_fatores)]).T\n",
        "  df_pca = pd.concat([df_pca, nova_linha])\n",
        "\n",
        "  print(n_fatores,\"Componentes (X)\")\n",
        "\n",
        "print(df_pca)"
      ],
      "metadata": {
        "colab": {
          "base_uri": "https://localhost:8080/"
        },
        "id": "ulXZ7721F_9E",
        "outputId": "2f5c36e9-b6f5-40d2-841f-3e4c8dd52d3e"
      },
      "execution_count": null,
      "outputs": [
        {
          "output_type": "stream",
          "name": "stdout",
          "text": [
            "Testar para 10 Componentes:\n",
            "2 Componentes (X)\n",
            "3 Componentes (X)\n",
            "4 Componentes (X)\n",
            "5 Componentes (X)\n",
            "6 Componentes (X)\n",
            "7 Componentes (X)\n",
            "8 Componentes (X)\n",
            "9 Componentes (X)\n",
            "10 Componentes (X)\n",
            "                        Auc  Accuracy        F1  Precision  Recall\n",
            "PCA 2 Components   0.982288  0.946429  0.956822   0.917697     1.0\n",
            "PCA 3 Components   0.986133  0.925000  0.943518   0.893887     1.0\n",
            "PCA 4 Components   0.988553  0.903571  0.926482   0.870828     1.0\n",
            "PCA 5 Components   0.982944  0.814286  0.867578   0.772996     1.0\n",
            "PCA 6 Components   0.984248  0.778571  0.844542   0.735715     1.0\n",
            "PCA 7 Components   0.983714  0.778571  0.844542   0.735715     1.0\n",
            "PCA 8 Components   0.981897  0.778571  0.844542   0.735715     1.0\n",
            "PCA 9 Components   0.979826  0.778571  0.844542   0.735715     1.0\n",
            "PCA 10 Components  0.976583  0.778571  0.844542   0.735715     1.0\n"
          ]
        }
      ]
    },
    {
      "cell_type": "markdown",
      "source": [
        "## **PPCA**"
      ],
      "metadata": {
        "id": "gHlAeiE65UxS"
      }
    },
    {
      "cell_type": "code",
      "source": [
        "class PPCA:\n",
        "  def __init__(self, M, num_iter):\n",
        "    self.M = M\n",
        "    self.num_iter = num_iter\n",
        "\n",
        "\n",
        "  def fit_transform(self, df):\n",
        "    # Converte o DataFrame para um array numpy\n",
        "    X = df.to_numpy()\n",
        "    M = self.M\n",
        "    num_iter = self.num_iter\n",
        "\n",
        "    # Inicialização dos parâmetros\n",
        "    N, D = X.shape\n",
        "    mu = np.mean(X, axis=0)\n",
        "    W = np.random.rand(D, M)\n",
        "    sigma2 = np.random.rand()\n",
        "\n",
        "    # Lista para armazenar a log-verossimilhança em cada iteração\n",
        "    log_likelihoods = []\n",
        "    # Loop do algoritmo EM\n",
        "    for _ in range(num_iter):\n",
        "        # Passo E\n",
        "        M_inv = np.linalg.inv(np.dot(W.T, W) + sigma2 * np.eye(M))\n",
        "        E_z = ( (M_inv @ W.T) @ (X - mu).T ).T\n",
        "        E_zzT = sigma2 * M_inv + np.einsum('ij,ik->ijk', E_z, E_z)\n",
        "\n",
        "        # Passo M\n",
        "        W = np.dot( ((X - mu).T @ E_z), np.linalg.inv(np.sum(E_zzT, axis=0)))\n",
        "        sigma2 = (np.sum(np.square(X - mu)) - 2 * np.sum(E_z * ((X - mu) @ W)) + np.trace( (E_zzT.sum(axis=0) @  (W.T @ W)) ) ) / (N * D)\n",
        "\n",
        "        # Calcula a log-verossimilhança e a adiciona à lista\n",
        "        log_likelihood = -0.5 * (D * np.log(2 * np.pi) + np.sum(np.log(sigma2) + np.trace(E_zzT, axis1=1, axis2=2) + np.dot((X - mu) @ W, E_z.T)))\n",
        "        log_likelihoods.append(log_likelihood)\n",
        "\n",
        "    # Projeção linear probabilística dos dados\n",
        "    M_hat_inv = np.linalg.inv(np.dot(W.T, W) + sigma2 * np.eye(M))\n",
        "    Z = np.dot(np.dot(M_hat_inv, W.T), (X - mu).T).T\n",
        "\n",
        "    # Reconstrução probabilística das projeções\n",
        "    X_hat = np.dot(Z, W.T) + mu\n",
        "\n",
        "    self.M_hat_inv = M_hat_inv\n",
        "    self.W = W\n",
        "    self.sigma2 = sigma2\n",
        "\n",
        "\n",
        "    return Z, X_hat, log_likelihoods\n",
        "\n",
        "  def transform(self, X):\n",
        "    X = X.to_numpy()\n",
        "    mu = np.mean(X, axis = 0)\n",
        "    Z = np.dot(np.dot(self.M_hat_inv, self.W.T), (X - mu).T).T\n",
        "    return Z\n",
        "\n",
        "  def reconstrucao(self, X):\n",
        "    X = X.to_numpy()\n",
        "    mu = np.mean(X, axis = 0)\n",
        "    Z = np.dot(np.dot(self.M_hat_inv, self.W.T), (X - mu).T).T\n",
        "    X_hat = np.dot(Z, self.W.T) + mu\n",
        "\n",
        "    return X_hat"
      ],
      "metadata": {
        "id": "2ljfW4t85c-L"
      },
      "execution_count": null,
      "outputs": []
    },
    {
      "cell_type": "markdown",
      "source": [
        "### Plotar 2D"
      ],
      "metadata": {
        "id": "LKQ1_ZHYGL5U"
      }
    },
    {
      "cell_type": "code",
      "source": [
        "ppca = PPCA(2, 100)\n",
        "Z, x_hat, log_likelihoods = ppca.fit_transform(X)\n",
        "\n",
        "plt.scatter(Z[y == 0,0],Z[y == 0,1] , c= \"b\")\n",
        "plt.scatter(Z[y == 1,0],Z[y == 1,1] , c= \"r\")\n",
        "plt.show()"
      ],
      "metadata": {
        "colab": {
          "base_uri": "https://localhost:8080/",
          "height": 430
        },
        "id": "yknFALHuGMMG",
        "outputId": "de73d9ea-0d1d-4c29-95ca-463cf475fb19"
      },
      "execution_count": null,
      "outputs": [
        {
          "output_type": "display_data",
          "data": {
            "text/plain": [
              "<Figure size 640x480 with 1 Axes>"
            ],
            "image/png": "[encoded data removed]"
          },
          "metadata": {}
        }
      ]
    },
    {
      "cell_type": "markdown",
      "source": [
        "### Detecção de Anomalias"
      ],
      "metadata": {
        "id": "ekMSTaBQGMeM"
      }
    },
    {
      "cell_type": "code",
      "source": [
        "from sklearn.neighbors import KernelDensity\n",
        "from sklearn.model_selection import GridSearchCV\n",
        "\n",
        "df_ppca = pd.DataFrame(columns = [\"Auc\", \"Accuracy\",\"F1\",\"Precision\",\"Recall\"])\n",
        "\n",
        "\n",
        "n = 10\n",
        "n_fatores_range = range(2,n+1)\n",
        "print(\"Testar para\",n,\"Componentes:\")\n",
        "for n_fatores in n_fatores_range:\n",
        "  auc_scores = []\n",
        "  accuracy_scores = []\n",
        "  f1_scores = []\n",
        "  precision_scores = []\n",
        "  recall_scores = []\n",
        "  for train_index, test_index in kf.split(X):\n",
        "    X_train, X_test = X.iloc[train_index], X.iloc[test_index]\n",
        "    y_train, y_test = y.iloc[train_index], y.iloc[test_index]\n",
        "\n",
        "    X_train_saudavel = X_train[y_train == 0]\n",
        "\n",
        "    ppca = PPCA(n_fatores, 100)\n",
        "\n",
        "    # Erro de reconstrução treino\n",
        "    X_train_ppca, residuals_train, _ = ppca.fit_transform(X_train)\n",
        "\n",
        "    # Calcular a função de densidade\n",
        "    params = {'bandwidth': np.logspace(-1, 1, 20),\n",
        "              'kernel': [\"gaussian\", \"tophat\"]\n",
        "              }\n",
        "\n",
        "    grid = GridSearchCV(KernelDensity(), params, cv=5)\n",
        "    grid.fit(residuals_train)\n",
        "    kd = grid.best_estimator_\n",
        "\n",
        "    anomaly_scores_train = -kd.score_samples(residuals_train)\n",
        "    threshold = np.percentile(anomaly_scores_train, 99)\n",
        "\n",
        "    # Conjunto de teste\n",
        "    X_test_ppca = ppca.transform(X_test)\n",
        "    residuals_test = ppca.reconstrucao(X_test)\n",
        "    anomaly_scores = -kd.score_samples(residuals_test)\n",
        "    anomalies = (anomaly_scores > threshold).astype(int)\n",
        "\n",
        "    auc_scores.append(roc_auc_score(y_test, anomaly_scores))\n",
        "    accuracy_scores.append(accuracy_score(y_test, anomalies))\n",
        "    f1_scores.append(f1_score(y_test, anomalies))\n",
        "    precision_scores.append(precision_score(y_test, anomalies))\n",
        "    recall_scores.append(recall_score(y_test, anomalies))\n",
        "\n",
        "  auc_scores = np.array(auc_scores)\n",
        "  accuracy_scores = np.array(accuracy_scores)\n",
        "  f1_scores = np.array(f1_scores)\n",
        "  precision_scores = np.array(precision_scores)\n",
        "  recall_scores = np.array(recall_scores)\n",
        "\n",
        "  auc = np.mean(auc_scores)\n",
        "  accuracy = np.mean(accuracy_scores)\n",
        "  f1 = np.mean(f1_scores)\n",
        "  precision = np.mean(precision_scores)\n",
        "  recall = np.mean(recall_scores)\n",
        "\n",
        "  nova_linha = pd.DataFrame([auc, accuracy, f1, precision, recall], index = [\"Auc\", \"Accuracy\",\"F1\",\"Precision\",\"Recall\"], columns = [\"PPCA {} Components\".format(n_fatores)]).T\n",
        "  df_ppca = pd.concat([df_ppca, nova_linha])\n",
        "\n",
        "  print(n_fatores,\"Componentes (X)\")\n",
        "\n",
        "print(df_ppca)\n",
        "\n"
      ],
      "metadata": {
        "colab": {
          "base_uri": "https://localhost:8080/"
        },
        "id": "UlCJsqmcGMw6",
        "outputId": "46309d53-50dc-464e-a69e-a4e785824720"
      },
      "execution_count": null,
      "outputs": [
        {
          "output_type": "stream",
          "name": "stdout",
          "text": [
            "Testar para 10 Componentes:\n",
            "2 Componentes (X)\n",
            "3 Componentes (X)\n",
            "4 Componentes (X)\n",
            "5 Componentes (X)\n",
            "6 Componentes (X)\n",
            "7 Componentes (X)\n",
            "8 Componentes (X)\n",
            "9 Componentes (X)\n",
            "10 Componentes (X)\n",
            "                         Auc  Accuracy        F1  Precision    Recall\n",
            "PPCA 2 Components   0.970044  0.928571  0.935284   0.965192  0.913293\n",
            "PPCA 3 Components   0.976888  0.917857  0.932115   0.957663  0.909724\n",
            "PPCA 4 Components   0.981472  0.917857  0.932535   0.957095  0.910738\n",
            "PPCA 5 Components   0.982589  0.910714  0.924748   0.961559  0.890738\n",
            "PPCA 6 Components   0.982892  0.903571  0.919235   0.968579  0.875616\n",
            "PPCA 7 Components   0.983694  0.900000  0.915468   0.968579  0.868720\n",
            "PPCA 8 Components   0.982357  0.907143  0.922566   0.969412  0.881269\n",
            "PPCA 9 Components   0.980890  0.892857  0.910567   0.974675  0.856878\n",
            "PPCA 10 Components  0.982811  0.867857  0.886183   0.973502  0.816687\n"
          ]
        }
      ]
    },
    {
      "cell_type": "markdown",
      "source": [
        "## **FA**"
      ],
      "metadata": {
        "id": "053Mt1JR5V0b"
      }
    },
    {
      "cell_type": "markdown",
      "source": [
        "### Plotar 2D"
      ],
      "metadata": {
        "id": "WJ01HMe_JoPr"
      }
    },
    {
      "cell_type": "code",
      "source": [
        "from sklearn.decomposition import FactorAnalysis\n",
        "import matplotlib.pyplot as plt\n",
        "from scipy.stats import multivariate_normal\n",
        "\n",
        "\n",
        "fa = FactorAnalysis(n_components=2)\n",
        "X_FA = fa.fit_transform(X)\n",
        "\n",
        "plt.scatter(X_FA[y == 0,0],X_FA[y == 0,1] , c= \"b\")\n",
        "plt.scatter(X_FA[y == 1,0],X_FA[y == 1,1] , c= \"r\")\n",
        "plt.show()\n"
      ],
      "metadata": {
        "colab": {
          "base_uri": "https://localhost:8080/",
          "height": 430
        },
        "id": "fint_qUYJq3T",
        "outputId": "3c432d99-0ead-4de6-ca32-7dac05d1c290"
      },
      "execution_count": null,
      "outputs": [
        {
          "output_type": "display_data",
          "data": {
            "text/plain": [
              "<Figure size 640x480 with 1 Axes>"
            ],
            "image/png": "[encoded data removed]"
          },
          "metadata": {}
        }
      ]
    },
    {
      "cell_type": "markdown",
      "source": [
        "### Detecção de Anomalias"
      ],
      "metadata": {
        "id": "5p3JYTx-JrZU"
      }
    },
    {
      "cell_type": "code",
      "source": [
        "from sklearn.neighbors import KernelDensity\n",
        "from sklearn.model_selection import GridSearchCV\n",
        "\n",
        "df_fa = pd.DataFrame(columns = [\"Auc\", \"Accuracy\",\"F1\",\"Precision\",\"Recall\"])\n",
        "\n",
        "\n",
        "n = 10\n",
        "n_fatores_range = range(2,n+1)\n",
        "print(\"Testar para\",n,\"Fatores\")\n",
        "for n_fatores in n_fatores_range:\n",
        "  auc_scores = []\n",
        "  accuracy_scores = []\n",
        "  f1_scores = []\n",
        "  precision_scores = []\n",
        "  recall_scores = []\n",
        "  for train_index, test_index in kf.split(X):\n",
        "    X_train, X_test = X.iloc[train_index], X.iloc[test_index]\n",
        "    y_train, y_test = y.iloc[train_index], y.iloc[test_index]\n",
        "\n",
        "    X_train_saudavel = X_train[y_train == 0]\n",
        "\n",
        "    fa = FactorAnalysis(n_components=n_fatores)\n",
        "    fa.fit(X_train)\n",
        "\n",
        "    # Erro de reconstrução treino\n",
        "    X_train_fa = fa.transform(X_train)\n",
        "    residuals_train = X_train - np.dot(X_train_fa, fa.components_)\n",
        "\n",
        "    # Calcular a função de densidade\n",
        "    params = {'bandwidth': np.logspace(-1, 1, 20),\n",
        "              'kernel': [\"gaussian\", \"tophat\"]\n",
        "              }\n",
        "\n",
        "    grid = GridSearchCV(KernelDensity(), params, cv=5)\n",
        "    grid.fit(residuals_train)\n",
        "    kd = grid.best_estimator_\n",
        "\n",
        "    anomaly_scores_train = -kd.score_samples(residuals_train)\n",
        "    threshold = np.percentile(anomaly_scores_train, 99)\n",
        "\n",
        "    # Conjunto de teste\n",
        "    X_test_fa = fa.transform(X_test)\n",
        "    residuals_test = X_test - np.dot(X_test_fa, fa.components_)\n",
        "    anomaly_scores = -kd.score_samples(residuals_test)\n",
        "    anomalies = (anomaly_scores > threshold).astype(int)\n",
        "\n",
        "    auc_scores.append(roc_auc_score(y_test, anomaly_scores))\n",
        "    accuracy_scores.append(accuracy_score(y_test, anomalies))\n",
        "    f1_scores.append(f1_score(y_test, anomalies))\n",
        "    precision_scores.append(precision_score(y_test, anomalies))\n",
        "    recall_scores.append(recall_score(y_test, anomalies))\n",
        "\n",
        "  auc_scores = np.array(auc_scores)\n",
        "  accuracy_scores = np.array(accuracy_scores)\n",
        "  f1_scores = np.array(f1_scores)\n",
        "  precision_scores = np.array(precision_scores)\n",
        "  recall_scores = np.array(recall_scores)\n",
        "\n",
        "  auc = np.mean(auc_scores)\n",
        "  accuracy = np.mean(accuracy_scores)\n",
        "  f1 = np.mean(f1_scores)\n",
        "  precision = np.mean(precision_scores)\n",
        "  recall = np.mean(recall_scores)\n",
        "\n",
        "  nova_linha = pd.DataFrame([auc, accuracy, f1, precision, recall], index = [\"Auc\", \"Accuracy\",\"F1\",\"Precision\",\"Recall\"], columns = [\"FA {} Factors\".format(n_fatores)]).T\n",
        "  df_fa = pd.concat([df_fa, nova_linha])\n",
        "\n",
        "  print(n_fatores,\"Fatores (X)\")\n",
        "\n",
        "\n",
        "print(df_fa)\n",
        "\n"
      ],
      "metadata": {
        "colab": {
          "base_uri": "https://localhost:8080/"
        },
        "id": "_39MrEPT_cYm",
        "outputId": "b080f0f9-dce4-41d6-fc8f-114be110c4ea"
      },
      "execution_count": null,
      "outputs": [
        {
          "output_type": "stream",
          "name": "stdout",
          "text": [
            "Testar para 10 Fatores\n",
            "2 Fatores (X)\n",
            "3 Fatores (X)\n",
            "4 Fatores (X)\n",
            "5 Fatores (X)\n",
            "6 Fatores (X)\n",
            "7 Fatores (X)\n",
            "8 Fatores (X)\n",
            "9 Fatores (X)\n",
            "10 Fatores (X)\n",
            "                    Auc  Accuracy        F1  Precision  Recall\n",
            "FA 2 Factors   0.984943  0.932143  0.947391   0.902331     1.0\n",
            "FA 3 Factors   0.984452  0.921429  0.937542   0.883854     1.0\n",
            "FA 4 Factors   0.982801  0.885714  0.917649   0.849512     1.0\n",
            "FA 5 Factors   0.981896  0.857143  0.900634   0.820250     1.0\n",
            "FA 6 Factors   0.982410  0.703571  0.803749   0.677442     1.0\n",
            "FA 7 Factors   0.980873  0.732143  0.818910   0.699793     1.0\n",
            "FA 8 Factors   0.979057  0.750000  0.828755   0.712577     1.0\n",
            "FA 9 Factors   0.977988  0.760714  0.834799   0.722216     1.0\n",
            "FA 10 Factors  0.976952  0.775000  0.842744   0.732962     1.0\n"
          ]
        }
      ]
    },
    {
      "cell_type": "markdown",
      "source": [
        "# **Algoritmos Neurais**"
      ],
      "metadata": {
        "id": "epJ5hetQ5Q5b"
      }
    },
    {
      "cell_type": "markdown",
      "source": [
        "## **VAE**"
      ],
      "metadata": {
        "id": "pEv03Vv45pHh"
      }
    },
    {
      "cell_type": "markdown",
      "source": [
        "### Inicialização"
      ],
      "metadata": {
        "id": "-o9Rrne4KdRJ"
      }
    },
    {
      "cell_type": "code",
      "source": [
        "import torch\n",
        "import torch.nn as nn\n",
        "import torch.optim as optim\n",
        "from torch.autograd import Variable\n",
        "from torch.utils.data import DataLoader\n",
        "from sklearn.model_selection import train_test_split\n",
        "from sklearn.preprocessing import MinMaxScaler\n",
        "\n",
        "scaler = MinMaxScaler()\n",
        "\n",
        "# .to(torch.float32)\n",
        "X = pd.DataFrame(scaler.fit_transform(X), columns=X.columns)\n",
        "\n",
        "X_train, X_test, y_train, y_test = train_test_split(X, y, test_size = 0.2)\n",
        "X_train = X_train[ y_train == 0 ]\n",
        "y_train = y_train[ y_train == 0 ]\n",
        "#train_dataset = X_train\n",
        "#train_dataset[\"y\"] = y_train\n",
        "device = torch.device(\"cuda\" if torch.cuda.is_available() else \"cpu\")\n",
        "\n",
        "batch_size = 5\n",
        "train_loader = DataLoader(dataset= torch.tensor(X_train.to_numpy()).to(torch.float32) , batch_size=batch_size, shuffle=True, drop_last=True)\n",
        "test_loader = DataLoader(dataset= torch.tensor(X_test.to_numpy()).to(torch.float32), batch_size=batch_size, shuffle=False)\n",
        "\n",
        "class VAE(nn.Module):\n",
        "\n",
        "    def __init__(self, input_dim, hidden_dim, latent_dim, device=device):\n",
        "        super(VAE, self).__init__()\n",
        "\n",
        "        # encoder\n",
        "        self.encoder = nn.Sequential(\n",
        "            nn.Linear(input_dim, hidden_dim),\n",
        "            nn.ReLU(),\n",
        "            nn.Linear(hidden_dim, latent_dim),\n",
        "            nn.ReLU()\n",
        "            )\n",
        "\n",
        "        # latent mean and variance\n",
        "        self.mean_layer = nn.Linear(latent_dim, 2)\n",
        "        self.logvar_layer = nn.Linear(latent_dim, 2)\n",
        "\n",
        "        # decoder\n",
        "        self.decoder = nn.Sequential(\n",
        "            nn.Linear(2, latent_dim),\n",
        "            nn.ReLU(),\n",
        "            nn.Linear(latent_dim, hidden_dim),\n",
        "            nn.ReLU(),\n",
        "            nn.Linear(hidden_dim, input_dim),\n",
        "            )\n",
        "\n",
        "    def encode(self, x):\n",
        "        x = self.encoder(x)\n",
        "        mean, logvar = self.mean_layer(x), self.logvar_layer(x)\n",
        "        return mean, logvar\n",
        "\n",
        "    def reparameterization(self, mean, var):\n",
        "        epsilon = torch.randn_like(var).to(device)\n",
        "        z = mean + var*epsilon\n",
        "        return z\n",
        "\n",
        "    def decode(self, x):\n",
        "        return self.decoder(x)\n",
        "\n",
        "    def forward(self, x):\n",
        "        mean, logvar = self.encode(x)\n",
        "        z = self.reparameterization(mean, logvar)\n",
        "        x_hat = self.decode(z)\n",
        "        return x_hat, mean, logvar\n",
        "\n",
        "def loss_function(x, x_hat, mean, log_var):\n",
        "    reproduction_loss = nn.functional.mse_loss(x_hat, x, reduction='sum')\n",
        "    KLD = - 0.5 * torch.sum(1+ log_var - mean.pow(2) - log_var.exp())\n",
        "\n",
        "    return reproduction_loss + KLD\n",
        "\n",
        "def train_vae(model, optimizer, epochs, interval, device):\n",
        "    model.train()\n",
        "    for epoch in range(epochs):\n",
        "        overall_loss = 0\n",
        "        for batch_idx, x in enumerate(train_loader):\n",
        "            x = x.view(batch_size, x.shape[1]).to(device)\n",
        "\n",
        "            optimizer.zero_grad()\n",
        "\n",
        "            x_hat, mean, log_var = model(x)\n",
        "            loss = loss_function(x, x_hat, mean, log_var)\n",
        "\n",
        "            overall_loss += loss.item()\n",
        "\n",
        "            loss.backward()\n",
        "            optimizer.step()\n",
        "        if (epoch+1) % interval == 0 or (epoch == 0 and interval < epochs):\n",
        "          print(\"\\tEpoch\", epoch + 1, \"\\tAverage Loss: \", overall_loss/(batch_idx*batch_size))\n",
        "    return overall_loss\n",
        "\n",
        "def verossimilhanca(model, x, device, num_samples = 20):\n",
        "    model.eval()\n",
        "\n",
        "    with torch.no_grad():\n",
        "        x = x.view(1, -1).to(device)\n",
        "        mean, logvar = model.encode(x)\n",
        "        z = model.reparameterization(mean, logvar)\n",
        "\n",
        "        log_likelihood = 0\n",
        "        for _ in range(num_samples):\n",
        "            z_sample = model.reparameterization(mean, logvar)\n",
        "            x_hat = model.decode(z_sample)\n",
        "            log_likelihood += -nn.functional.mse_loss(x_hat, x, reduction='sum').item()\n",
        "\n",
        "        log_likelihood /= num_samples\n",
        "        log_likelihood += -0.5 * torch.sum(1 + logvar - mean.pow(2) - logvar.exp())\n",
        "\n",
        "    return log_likelihood.item()"
      ],
      "metadata": {
        "id": "GywwzVHE5uCI"
      },
      "execution_count": null,
      "outputs": []
    },
    {
      "cell_type": "markdown",
      "source": [
        "### Otimização dos Hiperparametros"
      ],
      "metadata": {
        "id": "ClHQOAAT08uX"
      }
    },
    {
      "cell_type": "code",
      "source": [
        "!pip install ax-platform"
      ],
      "metadata": {
        "colab": {
          "base_uri": "https://localhost:8080/"
        },
        "id": "UsLD-mAI09MF",
        "outputId": "2162cec8-0a74-4e35-ddd6-491c1dadb0f7"
      },
      "execution_count": null,
      "outputs": [
        {
          "output_type": "stream",
          "name": "stdout",
          "text": [
            "Collecting ax-platform\n",
            "  Downloading ax_platform-0.3.5-py3-none-any.whl (1.3 MB)\n",
            "\u001b[2K     \u001b[90m━━━━━━━━━━━━━━━━━━━━━━━━━━━━━━━━━━━━━━━━\u001b[0m \u001b[32m1.3/1.3 MB\u001b[0m \u001b[31m6.1 MB/s\u001b[0m eta \u001b[36m0:00:00\u001b[0m\n",
            "\u001b[?25hCollecting botorch==0.9.4 (from ax-platform)\n",
            "  Downloading botorch-0.9.4-py3-none-any.whl (582 kB)\n",
            "\u001b[2K     \u001b[90m━━━━━━━━━━━━━━━━━━━━━━━━━━━━━━━━━━━━━━━━\u001b[0m \u001b[32m582.4/582.4 kB\u001b[0m \u001b[31m23.7 MB/s\u001b[0m eta \u001b[36m0:00:00\u001b[0m\n",
            "\u001b[?25hRequirement already satisfied: jinja2 in /usr/local/lib/python3.10/dist-packages (from ax-platform) (3.1.2)\n",
            "Requirement already satisfied: pandas in /usr/local/lib/python3.10/dist-packages (from ax-platform) (1.5.3)\n",
            "Requirement already satisfied: scipy in /usr/local/lib/python3.10/dist-packages (from ax-platform) (1.11.4)\n",
            "Requirement already satisfied: scikit-learn in /usr/local/lib/python3.10/dist-packages (from ax-platform) (1.2.2)\n",
            "Requirement already satisfied: ipywidgets in /usr/local/lib/python3.10/dist-packages (from ax-platform) (7.7.1)\n",
            "Requirement already satisfied: plotly>=5.12.0 in /usr/local/lib/python3.10/dist-packages (from ax-platform) (5.15.0)\n",
            "Collecting typeguard==2.13.3 (from ax-platform)\n",
            "  Downloading typeguard-2.13.3-py3-none-any.whl (17 kB)\n",
            "Collecting pyre-extensions (from ax-platform)\n",
            "  Downloading pyre_extensions-0.0.30-py3-none-any.whl (12 kB)\n",
            "Requirement already satisfied: multipledispatch in /usr/local/lib/python3.10/dist-packages (from botorch==0.9.4->ax-platform) (1.0.0)\n",
            "Requirement already satisfied: torch>=1.13.1 in /usr/local/lib/python3.10/dist-packages (from botorch==0.9.4->ax-platform) (2.1.0+cu118)\n",
            "Collecting pyro-ppl>=1.8.4 (from botorch==0.9.4->ax-platform)\n",
            "  Downloading pyro_ppl-1.8.6-py3-none-any.whl (732 kB)\n",
            "\u001b[2K     \u001b[90m━━━━━━━━━━━━━━━━━━━━━━━━━━━━━━━━━━━━━━━━\u001b[0m \u001b[32m732.8/732.8 kB\u001b[0m \u001b[31m26.5 MB/s\u001b[0m eta \u001b[36m0:00:00\u001b[0m\n",
            "\u001b[?25hCollecting gpytorch==1.11 (from botorch==0.9.4->ax-platform)\n",
            "  Downloading gpytorch-1.11-py3-none-any.whl (266 kB)\n",
            "\u001b[2K     \u001b[90m━━━━━━━━━━━━━━━━━━━━━━━━━━━━━━━━━━━━━━━━\u001b[0m \u001b[32m266.1/266.1 kB\u001b[0m \u001b[31m9.4 MB/s\u001b[0m eta \u001b[36m0:00:00\u001b[0m\n",
            "\u001b[?25hCollecting linear-operator==0.5.1 (from botorch==0.9.4->ax-platform)\n",
            "  Downloading linear_operator-0.5.1-py3-none-any.whl (174 kB)\n",
            "\u001b[2K     \u001b[90m━━━━━━━━━━━━━━━━━━━━━━━━━━━━━━━━━━━━━━━━\u001b[0m \u001b[32m174.5/174.5 kB\u001b[0m \u001b[31m15.1 MB/s\u001b[0m eta \u001b[36m0:00:00\u001b[0m\n",
            "\u001b[?25hCollecting jaxtyping>=0.2.9 (from linear-operator==0.5.1->botorch==0.9.4->ax-platform)\n",
            "  Downloading jaxtyping-0.2.24-py3-none-any.whl (38 kB)\n",
            "Requirement already satisfied: tenacity>=6.2.0 in /usr/local/lib/python3.10/dist-packages (from plotly>=5.12.0->ax-platform) (8.2.3)\n",
            "Requirement already satisfied: packaging in /usr/local/lib/python3.10/dist-packages (from plotly>=5.12.0->ax-platform) (23.2)\n",
            "Requirement already satisfied: ipykernel>=4.5.1 in /usr/local/lib/python3.10/dist-packages (from ipywidgets->ax-platform) (5.5.6)\n",
            "Requirement already satisfied: ipython-genutils~=0.2.0 in /usr/local/lib/python3.10/dist-packages (from ipywidgets->ax-platform) (0.2.0)\n",
            "Requirement already satisfied: traitlets>=4.3.1 in /usr/local/lib/python3.10/dist-packages (from ipywidgets->ax-platform) (5.7.1)\n",
            "Requirement already satisfied: widgetsnbextension~=3.6.0 in /usr/local/lib/python3.10/dist-packages (from ipywidgets->ax-platform) (3.6.6)\n",
            "Requirement already satisfied: ipython>=4.0.0 in /usr/local/lib/python3.10/dist-packages (from ipywidgets->ax-platform) (7.34.0)\n",
            "Requirement already satisfied: jupyterlab-widgets>=1.0.0 in /usr/local/lib/python3.10/dist-packages (from ipywidgets->ax-platform) (3.0.9)\n",
            "Requirement already satisfied: MarkupSafe>=2.0 in /usr/local/lib/python3.10/dist-packages (from jinja2->ax-platform) (2.1.3)\n",
            "Requirement already satisfied: python-dateutil>=2.8.1 in /usr/local/lib/python3.10/dist-packages (from pandas->ax-platform) (2.8.2)\n",
            "Requirement already satisfied: pytz>=2020.1 in /usr/local/lib/python3.10/dist-packages (from pandas->ax-platform) (2023.3.post1)\n",
            "Requirement already satisfied: numpy>=1.21.0 in /usr/local/lib/python3.10/dist-packages (from pandas->ax-platform) (1.23.5)\n",
            "Collecting typing-inspect (from pyre-extensions->ax-platform)\n",
            "  Downloading typing_inspect-0.9.0-py3-none-any.whl (8.8 kB)\n",
            "Requirement already satisfied: typing-extensions in /usr/local/lib/python3.10/dist-packages (from pyre-extensions->ax-platform) (4.5.0)\n",
            "Requirement already satisfied: joblib>=1.1.1 in /usr/local/lib/python3.10/dist-packages (from scikit-learn->ax-platform) (1.3.2)\n",
            "Requirement already satisfied: threadpoolctl>=2.0.0 in /usr/local/lib/python3.10/dist-packages (from scikit-learn->ax-platform) (3.2.0)\n",
            "Requirement already satisfied: jupyter-client in /usr/local/lib/python3.10/dist-packages (from ipykernel>=4.5.1->ipywidgets->ax-platform) (6.1.12)\n",
            "Requirement already satisfied: tornado>=4.2 in /usr/local/lib/python3.10/dist-packages (from ipykernel>=4.5.1->ipywidgets->ax-platform) (6.3.2)\n",
            "Requirement already satisfied: setuptools>=18.5 in /usr/local/lib/python3.10/dist-packages (from ipython>=4.0.0->ipywidgets->ax-platform) (67.7.2)\n",
            "Collecting jedi>=0.16 (from ipython>=4.0.0->ipywidgets->ax-platform)\n",
            "  Downloading jedi-0.19.1-py2.py3-none-any.whl (1.6 MB)\n",
            "\u001b[2K     \u001b[90m━━━━━━━━━━━━━━━━━━━━━━━━━━━━━━━━━━━━━━━━\u001b[0m \u001b[32m1.6/1.6 MB\u001b[0m \u001b[31m14.1 MB/s\u001b[0m eta \u001b[36m0:00:00\u001b[0m\n",
            "\u001b[?25hRequirement already satisfied: decorator in /usr/local/lib/python3.10/dist-packages (from ipython>=4.0.0->ipywidgets->ax-platform) (4.4.2)\n",
            "Requirement already satisfied: pickleshare in /usr/local/lib/python3.10/dist-packages (from ipython>=4.0.0->ipywidgets->ax-platform) (0.7.5)\n",
            "Requirement already satisfied: prompt-toolkit!=3.0.0,!=3.0.1,<3.1.0,>=2.0.0 in /usr/local/lib/python3.10/dist-packages (from ipython>=4.0.0->ipywidgets->ax-platform) (3.0.41)\n",
            "Requirement already satisfied: pygments in /usr/local/lib/python3.10/dist-packages (from ipython>=4.0.0->ipywidgets->ax-platform) (2.16.1)\n",
            "Requirement already satisfied: backcall in /usr/local/lib/python3.10/dist-packages (from ipython>=4.0.0->ipywidgets->ax-platform) (0.2.0)\n",
            "Requirement already satisfied: matplotlib-inline in /usr/local/lib/python3.10/dist-packages (from ipython>=4.0.0->ipywidgets->ax-platform) (0.1.6)\n",
            "Requirement already satisfied: pexpect>4.3 in /usr/local/lib/python3.10/dist-packages (from ipython>=4.0.0->ipywidgets->ax-platform) (4.9.0)\n",
            "Requirement already satisfied: opt-einsum>=2.3.2 in /usr/local/lib/python3.10/dist-packages (from pyro-ppl>=1.8.4->botorch==0.9.4->ax-platform) (3.3.0)\n",
            "Collecting pyro-api>=0.1.1 (from pyro-ppl>=1.8.4->botorch==0.9.4->ax-platform)\n",
            "  Downloading pyro_api-0.1.2-py3-none-any.whl (11 kB)\n",
            "Requirement already satisfied: tqdm>=4.36 in /usr/local/lib/python3.10/dist-packages (from pyro-ppl>=1.8.4->botorch==0.9.4->ax-platform) (4.66.1)\n",
            "Requirement already satisfied: six>=1.5 in /usr/local/lib/python3.10/dist-packages (from python-dateutil>=2.8.1->pandas->ax-platform) (1.16.0)\n",
            "Requirement already satisfied: filelock in /usr/local/lib/python3.10/dist-packages (from torch>=1.13.1->botorch==0.9.4->ax-platform) (3.13.1)\n",
            "Requirement already satisfied: sympy in /usr/local/lib/python3.10/dist-packages (from torch>=1.13.1->botorch==0.9.4->ax-platform) (1.12)\n",
            "Requirement already satisfied: networkx in /usr/local/lib/python3.10/dist-packages (from torch>=1.13.1->botorch==0.9.4->ax-platform) (3.2.1)\n",
            "Requirement already satisfied: fsspec in /usr/local/lib/python3.10/dist-packages (from torch>=1.13.1->botorch==0.9.4->ax-platform) (2023.6.0)\n",
            "Requirement already satisfied: triton==2.1.0 in /usr/local/lib/python3.10/dist-packages (from torch>=1.13.1->botorch==0.9.4->ax-platform) (2.1.0)\n",
            "Requirement already satisfied: notebook>=4.4.1 in /usr/local/lib/python3.10/dist-packages (from widgetsnbextension~=3.6.0->ipywidgets->ax-platform) (6.5.5)\n",
            "Collecting mypy-extensions>=0.3.0 (from typing-inspect->pyre-extensions->ax-platform)\n",
            "  Downloading mypy_extensions-1.0.0-py3-none-any.whl (4.7 kB)\n",
            "Requirement already satisfied: parso<0.9.0,>=0.8.3 in /usr/local/lib/python3.10/dist-packages (from jedi>=0.16->ipython>=4.0.0->ipywidgets->ax-platform) (0.8.3)\n",
            "Requirement already satisfied: pyzmq<25,>=17 in /usr/local/lib/python3.10/dist-packages (from notebook>=4.4.1->widgetsnbextension~=3.6.0->ipywidgets->ax-platform) (23.2.1)\n",
            "Requirement already satisfied: argon2-cffi in /usr/local/lib/python3.10/dist-packages (from notebook>=4.4.1->widgetsnbextension~=3.6.0->ipywidgets->ax-platform) (23.1.0)\n",
            "Requirement already satisfied: jupyter-core>=4.6.1 in /usr/local/lib/python3.10/dist-packages (from notebook>=4.4.1->widgetsnbextension~=3.6.0->ipywidgets->ax-platform) (5.5.0)\n",
            "Requirement already satisfied: nbformat in /usr/local/lib/python3.10/dist-packages (from notebook>=4.4.1->widgetsnbextension~=3.6.0->ipywidgets->ax-platform) (5.9.2)\n",
            "Requirement already satisfied: nbconvert>=5 in /usr/local/lib/python3.10/dist-packages (from notebook>=4.4.1->widgetsnbextension~=3.6.0->ipywidgets->ax-platform) (6.5.4)\n",
            "Requirement already satisfied: nest-asyncio>=1.5 in /usr/local/lib/python3.10/dist-packages (from notebook>=4.4.1->widgetsnbextension~=3.6.0->ipywidgets->ax-platform) (1.5.8)\n",
            "Requirement already satisfied: Send2Trash>=1.8.0 in /usr/local/lib/python3.10/dist-packages (from notebook>=4.4.1->widgetsnbextension~=3.6.0->ipywidgets->ax-platform) (1.8.2)\n",
            "Requirement already satisfied: terminado>=0.8.3 in /usr/local/lib/python3.10/dist-packages (from notebook>=4.4.1->widgetsnbextension~=3.6.0->ipywidgets->ax-platform) (0.18.0)\n",
            "Requirement already satisfied: prometheus-client in /usr/local/lib/python3.10/dist-packages (from notebook>=4.4.1->widgetsnbextension~=3.6.0->ipywidgets->ax-platform) (0.19.0)\n",
            "Requirement already satisfied: nbclassic>=0.4.7 in /usr/local/lib/python3.10/dist-packages (from notebook>=4.4.1->widgetsnbextension~=3.6.0->ipywidgets->ax-platform) (1.0.0)\n",
            "Requirement already satisfied: ptyprocess>=0.5 in /usr/local/lib/python3.10/dist-packages (from pexpect>4.3->ipython>=4.0.0->ipywidgets->ax-platform) (0.7.0)\n",
            "Requirement already satisfied: wcwidth in /usr/local/lib/python3.10/dist-packages (from prompt-toolkit!=3.0.0,!=3.0.1,<3.1.0,>=2.0.0->ipython>=4.0.0->ipywidgets->ax-platform) (0.2.12)\n",
            "Requirement already satisfied: mpmath>=0.19 in /usr/local/lib/python3.10/dist-packages (from sympy->torch>=1.13.1->botorch==0.9.4->ax-platform) (1.3.0)\n",
            "Requirement already satisfied: platformdirs>=2.5 in /usr/local/lib/python3.10/dist-packages (from jupyter-core>=4.6.1->notebook>=4.4.1->widgetsnbextension~=3.6.0->ipywidgets->ax-platform) (4.0.0)\n",
            "Requirement already satisfied: jupyter-server>=1.8 in /usr/local/lib/python3.10/dist-packages (from nbclassic>=0.4.7->notebook>=4.4.1->widgetsnbextension~=3.6.0->ipywidgets->ax-platform) (1.24.0)\n",
            "Requirement already satisfied: notebook-shim>=0.2.3 in /usr/local/lib/python3.10/dist-packages (from nbclassic>=0.4.7->notebook>=4.4.1->widgetsnbextension~=3.6.0->ipywidgets->ax-platform) (0.2.3)\n",
            "Requirement already satisfied: lxml in /usr/local/lib/python3.10/dist-packages (from nbconvert>=5->notebook>=4.4.1->widgetsnbextension~=3.6.0->ipywidgets->ax-platform) (4.9.3)\n",
            "Requirement already satisfied: beautifulsoup4 in /usr/local/lib/python3.10/dist-packages (from nbconvert>=5->notebook>=4.4.1->widgetsnbextension~=3.6.0->ipywidgets->ax-platform) (4.11.2)\n",
            "Requirement already satisfied: bleach in /usr/local/lib/python3.10/dist-packages (from nbconvert>=5->notebook>=4.4.1->widgetsnbextension~=3.6.0->ipywidgets->ax-platform) (6.1.0)\n",
            "Requirement already satisfied: defusedxml in /usr/local/lib/python3.10/dist-packages (from nbconvert>=5->notebook>=4.4.1->widgetsnbextension~=3.6.0->ipywidgets->ax-platform) (0.7.1)\n",
            "Requirement already satisfied: entrypoints>=0.2.2 in /usr/local/lib/python3.10/dist-packages (from nbconvert>=5->notebook>=4.4.1->widgetsnbextension~=3.6.0->ipywidgets->ax-platform) (0.4)\n",
            "Requirement already satisfied: jupyterlab-pygments in /usr/local/lib/python3.10/dist-packages (from nbconvert>=5->notebook>=4.4.1->widgetsnbextension~=3.6.0->ipywidgets->ax-platform) (0.3.0)\n",
            "Requirement already satisfied: mistune<2,>=0.8.1 in /usr/local/lib/python3.10/dist-packages (from nbconvert>=5->notebook>=4.4.1->widgetsnbextension~=3.6.0->ipywidgets->ax-platform) (0.8.4)\n",
            "Requirement already satisfied: nbclient>=0.5.0 in /usr/local/lib/python3.10/dist-packages (from nbconvert>=5->notebook>=4.4.1->widgetsnbextension~=3.6.0->ipywidgets->ax-platform) (0.9.0)\n",
            "Requirement already satisfied: pandocfilters>=1.4.1 in /usr/local/lib/python3.10/dist-packages (from nbconvert>=5->notebook>=4.4.1->widgetsnbextension~=3.6.0->ipywidgets->ax-platform) (1.5.0)\n",
            "Requirement already satisfied: tinycss2 in /usr/local/lib/python3.10/dist-packages (from nbconvert>=5->notebook>=4.4.1->widgetsnbextension~=3.6.0->ipywidgets->ax-platform) (1.2.1)\n",
            "Requirement already satisfied: fastjsonschema in /usr/local/lib/python3.10/dist-packages (from nbformat->notebook>=4.4.1->widgetsnbextension~=3.6.0->ipywidgets->ax-platform) (2.19.0)\n",
            "Requirement already satisfied: jsonschema>=2.6 in /usr/local/lib/python3.10/dist-packages (from nbformat->notebook>=4.4.1->widgetsnbextension~=3.6.0->ipywidgets->ax-platform) (4.19.2)\n",
            "Requirement already satisfied: argon2-cffi-bindings in /usr/local/lib/python3.10/dist-packages (from argon2-cffi->notebook>=4.4.1->widgetsnbextension~=3.6.0->ipywidgets->ax-platform) (21.2.0)\n",
            "Requirement already satisfied: attrs>=22.2.0 in /usr/local/lib/python3.10/dist-packages (from jsonschema>=2.6->nbformat->notebook>=4.4.1->widgetsnbextension~=3.6.0->ipywidgets->ax-platform) (23.1.0)\n",
            "Requirement already satisfied: jsonschema-specifications>=2023.03.6 in /usr/local/lib/python3.10/dist-packages (from jsonschema>=2.6->nbformat->notebook>=4.4.1->widgetsnbextension~=3.6.0->ipywidgets->ax-platform) (2023.11.1)\n",
            "Requirement already satisfied: referencing>=0.28.4 in /usr/local/lib/python3.10/dist-packages (from jsonschema>=2.6->nbformat->notebook>=4.4.1->widgetsnbextension~=3.6.0->ipywidgets->ax-platform) (0.31.1)\n",
            "Requirement already satisfied: rpds-py>=0.7.1 in /usr/local/lib/python3.10/dist-packages (from jsonschema>=2.6->nbformat->notebook>=4.4.1->widgetsnbextension~=3.6.0->ipywidgets->ax-platform) (0.13.2)\n",
            "Requirement already satisfied: anyio<4,>=3.1.0 in /usr/local/lib/python3.10/dist-packages (from jupyter-server>=1.8->nbclassic>=0.4.7->notebook>=4.4.1->widgetsnbextension~=3.6.0->ipywidgets->ax-platform) (3.7.1)\n",
            "Requirement already satisfied: websocket-client in /usr/local/lib/python3.10/dist-packages (from jupyter-server>=1.8->nbclassic>=0.4.7->notebook>=4.4.1->widgetsnbextension~=3.6.0->ipywidgets->ax-platform) (1.6.4)\n",
            "Requirement already satisfied: cffi>=1.0.1 in /usr/local/lib/python3.10/dist-packages (from argon2-cffi-bindings->argon2-cffi->notebook>=4.4.1->widgetsnbextension~=3.6.0->ipywidgets->ax-platform) (1.16.0)\n",
            "Requirement already satisfied: soupsieve>1.2 in /usr/local/lib/python3.10/dist-packages (from beautifulsoup4->nbconvert>=5->notebook>=4.4.1->widgetsnbextension~=3.6.0->ipywidgets->ax-platform) (2.5)\n",
            "Requirement already satisfied: webencodings in /usr/local/lib/python3.10/dist-packages (from bleach->nbconvert>=5->notebook>=4.4.1->widgetsnbextension~=3.6.0->ipywidgets->ax-platform) (0.5.1)\n",
            "Requirement already satisfied: idna>=2.8 in /usr/local/lib/python3.10/dist-packages (from anyio<4,>=3.1.0->jupyter-server>=1.8->nbclassic>=0.4.7->notebook>=4.4.1->widgetsnbextension~=3.6.0->ipywidgets->ax-platform) (3.6)\n",
            "Requirement already satisfied: sniffio>=1.1 in /usr/local/lib/python3.10/dist-packages (from anyio<4,>=3.1.0->jupyter-server>=1.8->nbclassic>=0.4.7->notebook>=4.4.1->widgetsnbextension~=3.6.0->ipywidgets->ax-platform) (1.3.0)\n",
            "Requirement already satisfied: exceptiongroup in /usr/local/lib/python3.10/dist-packages (from anyio<4,>=3.1.0->jupyter-server>=1.8->nbclassic>=0.4.7->notebook>=4.4.1->widgetsnbextension~=3.6.0->ipywidgets->ax-platform) (1.2.0)\n",
            "Requirement already satisfied: pycparser in /usr/local/lib/python3.10/dist-packages (from cffi>=1.0.1->argon2-cffi-bindings->argon2-cffi->notebook>=4.4.1->widgetsnbextension~=3.6.0->ipywidgets->ax-platform) (2.21)\n",
            "Installing collected packages: pyro-api, typeguard, mypy-extensions, jedi, typing-inspect, jaxtyping, pyro-ppl, pyre-extensions, linear-operator, gpytorch, botorch, ax-platform\n",
            "Successfully installed ax-platform-0.3.5 botorch-0.9.4 gpytorch-1.11 jaxtyping-0.2.24 jedi-0.19.1 linear-operator-0.5.1 mypy-extensions-1.0.0 pyre-extensions-0.0.30 pyro-api-0.1.2 pyro-ppl-1.8.6 typeguard-2.13.3 typing-inspect-0.9.0\n"
          ]
        }
      ]
    },
    {
      "cell_type": "code",
      "source": [
        "from ax import optimize\n",
        "\n",
        "def objective(parameterization):\n",
        "    hidden_dim = parameterization.get('hidden_dim')\n",
        "    latent_dim = parameterization.get('latent_dim')\n",
        "    lr = parameterization.get('lr')\n",
        "\n",
        "    model = VAE(input_dim=X.shape[1], hidden_dim=hidden_dim, latent_dim=latent_dim, device=device).to(device)\n",
        "    optimizer = optim.Adam(model.parameters(), lr=lr)\n",
        "\n",
        "    loss = train_vae(model, optimizer, epochs=100, interval=999, device=device)\n",
        "    return loss\n",
        "\n",
        "parameters = [\n",
        "    {\"name\": \"hidden_dim\", \"type\": \"range\", \"bounds\": [4, 32]},\n",
        "    {\"name\": \"latent_dim\", \"type\": \"range\", \"bounds\": [2, 16]},\n",
        "    {\"name\": \"lr\", \"type\": \"range\", \"bounds\": [1e-5, 1e-1], \"log_scale\": True}\n",
        "]\n",
        "\n",
        "\n",
        "best_parameters, values, experiment, model = optimize(\n",
        "    parameters=parameters,\n",
        "    evaluation_function=objective,\n",
        "    minimize=True,\n",
        "    total_trials=15,\n",
        ")"
      ],
      "metadata": {
        "colab": {
          "base_uri": "https://localhost:8080/"
        },
        "id": "WgZIzOma1EAp",
        "outputId": "501b4f17-00c7-444c-f293-a9e1202c003e"
      },
      "execution_count": null,
      "outputs": [
        {
          "output_type": "stream",
          "name": "stderr",
          "text": [
            "[INFO 12-03 00:44:48] ax.service.utils.instantiation: Inferred value type of ParameterType.INT for parameter hidden_dim. If that is not the expected value type, you can explicitly specify 'value_type' ('int', 'float', 'bool' or 'str') in parameter dict.\n",
            "[INFO 12-03 00:44:49] ax.service.utils.instantiation: Inferred value type of ParameterType.INT for parameter latent_dim. If that is not the expected value type, you can explicitly specify 'value_type' ('int', 'float', 'bool' or 'str') in parameter dict.\n",
            "[INFO 12-03 00:44:49] ax.service.utils.instantiation: Inferred value type of ParameterType.FLOAT for parameter lr. If that is not the expected value type, you can explicitly specify 'value_type' ('int', 'float', 'bool' or 'str') in parameter dict.\n",
            "[INFO 12-03 00:44:49] ax.service.utils.instantiation: Created search space: SearchSpace(parameters=[RangeParameter(name='hidden_dim', parameter_type=INT, range=[4, 32]), RangeParameter(name='latent_dim', parameter_type=INT, range=[2, 16]), RangeParameter(name='lr', parameter_type=FLOAT, range=[1e-05, 0.1], log_scale=True)], parameter_constraints=[]).\n",
            "[INFO 12-03 00:44:49] ax.modelbridge.dispatch_utils: Using Models.BOTORCH_MODULAR since there are more ordered parameters than there are categories for the unordered categorical parameters.\n",
            "[INFO 12-03 00:44:49] ax.modelbridge.dispatch_utils: Calculating the number of remaining initialization trials based on num_initialization_trials=None max_initialization_trials=None num_tunable_parameters=3 num_trials=None use_batch_trials=False\n",
            "[INFO 12-03 00:44:49] ax.modelbridge.dispatch_utils: calculated num_initialization_trials=6\n",
            "[INFO 12-03 00:44:49] ax.modelbridge.dispatch_utils: num_completed_initialization_trials=0 num_remaining_initialization_trials=6\n",
            "[INFO 12-03 00:44:49] ax.modelbridge.dispatch_utils: `verbose`, `disable_progbar`, and `jit_compile` are not yet supported when using `choose_generation_strategy` with ModularBoTorchModel, dropping these arguments.\n",
            "[INFO 12-03 00:44:49] ax.modelbridge.dispatch_utils: Using Bayesian Optimization generation strategy: GenerationStrategy(name='Sobol+BoTorch', steps=[Sobol for 6 trials, BoTorch for subsequent trials]). Iterations after 6 will take longer to generate due to model-fitting.\n",
            "[INFO 12-03 00:44:49] ax.service.managed_loop: Started full optimization with 15 steps.\n",
            "[INFO 12-03 00:44:49] ax.service.managed_loop: Running optimization trial 1...\n",
            "[INFO 12-03 00:45:01] ax.service.managed_loop: Running optimization trial 2...\n",
            "[INFO 12-03 00:45:19] ax.service.managed_loop: Running optimization trial 3...\n",
            "[INFO 12-03 00:45:33] ax.service.managed_loop: Running optimization trial 4...\n",
            "[INFO 12-03 00:45:44] ax.service.managed_loop: Running optimization trial 5...\n",
            "[INFO 12-03 00:45:51] ax.service.managed_loop: Running optimization trial 6...\n",
            "[INFO 12-03 00:45:55] ax.service.managed_loop: Running optimization trial 7...\n",
            "[INFO 12-03 00:46:02] ax.service.managed_loop: Running optimization trial 8...\n",
            "[INFO 12-03 00:46:08] ax.service.managed_loop: Running optimization trial 9...\n",
            "[INFO 12-03 00:46:14] ax.service.managed_loop: Running optimization trial 10...\n",
            "[INFO 12-03 00:46:22] ax.service.managed_loop: Running optimization trial 11...\n",
            "[INFO 12-03 00:46:27] ax.service.managed_loop: Running optimization trial 12...\n",
            "[INFO 12-03 00:46:33] ax.service.managed_loop: Running optimization trial 13...\n",
            "[INFO 12-03 00:46:40] ax.service.managed_loop: Running optimization trial 14...\n",
            "[INFO 12-03 00:46:46] ax.service.managed_loop: Running optimization trial 15...\n"
          ]
        }
      ]
    },
    {
      "cell_type": "markdown",
      "source": [
        "### Treino"
      ],
      "metadata": {
        "id": "m1dcsw2rKiPp"
      }
    },
    {
      "cell_type": "code",
      "source": [
        "print(best_parameters, values, experiment, model)\n",
        "\n",
        "input_size = X_train.shape[1]\n",
        "print(X_train.shape)\n",
        "hidden_size = best_parameters[\"hidden_dim\"]\n",
        "latent_size = best_parameters[\"latent_dim\"]\n",
        "lr = best_parameters[\"lr\"]\n",
        "\n",
        "model = VAE(input_size, hidden_size, latent_size).to(device)\n",
        "optimizer = optim.Adam(model.parameters(), lr=lr)\n",
        "\n",
        "train_vae(model, optimizer, epochs=500, interval = 50, device=device)"
      ],
      "metadata": {
        "colab": {
          "base_uri": "https://localhost:8080/"
        },
        "id": "f7YurqFHKizB",
        "outputId": "c4014dab-53b6-4fa2-b666-33e2c228b3c5"
      },
      "execution_count": null,
      "outputs": [
        {
          "output_type": "stream",
          "name": "stdout",
          "text": [
            "{'hidden_dim': 25, 'latent_dim': 16, 'lr': 0.0017551625919634837} ({'objective': 13.844997025289961}, {'objective': {'objective': 1.896865095493298}}) Experiment(None) <ax.modelbridge.torch.TorchModelBridge object at 0x7d36475aee00>\n",
            "(87, 34)\n",
            "\tEpoch 1 \tAverage Loss:  13.191938066482544\n",
            "\tEpoch 50 \tAverage Loss:  0.2282711461186409\n",
            "\tEpoch 100 \tAverage Loss:  0.2138734981417656\n",
            "\tEpoch 150 \tAverage Loss:  0.12030581012368202\n",
            "\tEpoch 200 \tAverage Loss:  0.08476728107780218\n",
            "\tEpoch 250 \tAverage Loss:  0.07065277881920337\n",
            "\tEpoch 300 \tAverage Loss:  0.06550368554890156\n",
            "\tEpoch 350 \tAverage Loss:  0.06435861513018608\n",
            "\tEpoch 400 \tAverage Loss:  0.0646149454638362\n",
            "\tEpoch 450 \tAverage Loss:  0.06434740703552962\n",
            "\tEpoch 500 \tAverage Loss:  0.06339695975184441\n"
          ]
        },
        {
          "output_type": "execute_result",
          "data": {
            "text/plain": [
              "5.0717567801475525"
            ]
          },
          "metadata": {},
          "execution_count": 23
        }
      ]
    },
    {
      "cell_type": "markdown",
      "source": [
        "### Detecção de Anomalias"
      ],
      "metadata": {
        "id": "G5XK2sQxKjOz"
      }
    },
    {
      "cell_type": "code",
      "source": [
        "auc_scores = []\n",
        "accuracy_scores = []\n",
        "f1_scores = []\n",
        "precision_scores = []\n",
        "recall_scores = []\n",
        "for train_index, test_index in kf.split(X):\n",
        "  X_train, X_test = X.iloc[train_index], X.iloc[test_index]\n",
        "  y_train, y_test = y.iloc[train_index], y.iloc[test_index]\n",
        "  X_train_saudavel = X_train[y_train == 0]\n",
        "\n",
        "  anomaly_scores_train = []\n",
        "  for x in X_train_saudavel.to_numpy():\n",
        "    anomaly_scores_train.append( -verossimilhanca(model, torch.tensor(x).to(torch.float32), device, num_samples = 10) )\n",
        "  anomaly_scores_train = np.array(anomaly_scores_train)\n",
        "  threshold = np.percentile(anomaly_scores_train, 99)\n",
        "\n",
        "  anomaly_scores_test = []\n",
        "  for x in X_test.to_numpy():\n",
        "    anomaly_scores_test.append( -verossimilhanca(model, torch.tensor(x).to(torch.float32), device, num_samples = 10) )\n",
        "  anomaly_scores_test = np.array(anomaly_scores_test)\n",
        "  anomalies = (anomaly_scores_test > threshold).astype(int)\n",
        "\n",
        "  auc_scores.append(roc_auc_score(y_test, anomaly_scores_test))\n",
        "  accuracy_scores.append(accuracy_score(y_test, anomalies))\n",
        "  f1_scores.append(f1_score(y_test, anomalies))\n",
        "  precision_scores.append(precision_score(y_test, anomalies))\n",
        "  recall_scores.append(recall_score(y_test, anomalies))\n",
        "\n",
        "auc_scores = np.array(auc_scores)\n",
        "accuracy_scores = np.array(accuracy_scores)\n",
        "f1_scores = np.array(f1_scores)\n",
        "precision_scores = np.array(precision_scores)\n",
        "recall_scores = np.array(recall_scores)\n",
        "\n",
        "auc = np.mean(auc_scores)\n",
        "accuracy = np.mean(accuracy_scores)\n",
        "f1 = np.mean(f1_scores)\n",
        "precision = np.mean(precision_scores)\n",
        "recall = np.mean(recall_scores)\n",
        "\n",
        "df_vae = pd.DataFrame([auc, accuracy, f1, precision, recall]).T\n",
        "df_vae.columns = [\"Auc\", \"Accuracy\",\"F1\",\"Precision\",\"Recall\"]\n",
        "df_vae.index = [\"VAE\"]\n",
        "\n",
        "print(df_vae)"
      ],
      "metadata": {
        "colab": {
          "base_uri": "https://localhost:8080/"
        },
        "id": "EUoNx_xUKjrA",
        "outputId": "609eee26-5255-4622-9aad-624a3ff0250c"
      },
      "execution_count": null,
      "outputs": [
        {
          "output_type": "stream",
          "name": "stdout",
          "text": [
            "     Auc  Accuracy        F1  Precision  Recall\n",
            "VAE  1.0  0.989286  0.990159   0.980833     1.0\n"
          ]
        }
      ]
    },
    {
      "cell_type": "markdown",
      "source": [
        "NF"
      ],
      "metadata": {
        "id": "YcpPm1645sJZ"
      }
    },
    {
      "cell_type": "code",
      "source": [],
      "metadata": {
        "id": "BCB_2Q2g5e0x"
      },
      "execution_count": null,
      "outputs": []
    },
    {
      "cell_type": "markdown",
      "source": [
        "# Resumo dos resultados"
      ],
      "metadata": {
        "id": "6IgFWdJ7PtXJ"
      }
    },
    {
      "cell_type": "code",
      "source": [
        "ordenar_por = \"F1\"\n",
        "\n",
        "melhor_pca = df_pca.loc[df_pca[ordenar_por].idxmax()]\n",
        "melhor_ppca = df_ppca.loc[df_ppca[ordenar_por].idxmax()]\n",
        "melhor_fa = df_fa.loc[df_fa[ordenar_por].idxmax()]\n",
        "\n",
        "df_comparacao_reconstrucao = pd.DataFrame()\n",
        "df_comparacao_reconstrucao = df_comparacao_reconstrucao.append(melhor_pca)\n",
        "df_comparacao_reconstrucao = df_comparacao_reconstrucao.append(melhor_ppca)\n",
        "df_comparacao_reconstrucao = df_comparacao_reconstrucao.append(melhor_fa)\n",
        "df_comparacao_reconstrucao = df_comparacao_reconstrucao.sort_values(by=ordenar_por, ascending = False)\n",
        "\n",
        "print(\"Melhor quantidade de componentes para os modelos de redução de dimensionalidade\")\n",
        "print(df_comparacao_reconstrucao)\n",
        "print()\n",
        "\n",
        "df_comparacao_final = pd.concat([\n",
        "    df_gmm,\n",
        "    df_ppca,\n",
        "    df_fa,\n",
        "    df_vae\n",
        "]).sort_values(by=ordenar_por, ascending = False)\n",
        "\n",
        "print(\"Comparação entre todos os modelos testados\")\n",
        "print(df_comparacao_final)"
      ],
      "metadata": {
        "colab": {
          "base_uri": "https://localhost:8080/"
        },
        "id": "qX0BnDTBPvtt",
        "outputId": "851eedea-d493-4555-ec0e-dcfca9cd52a6"
      },
      "execution_count": null,
      "outputs": [
        {
          "output_type": "stream",
          "name": "stdout",
          "text": [
            "Melhor quantidade de componentes para os modelos de redução de dimensionalidade\n",
            "                        Auc  Accuracy        F1  Precision    Recall\n",
            "PCA 2 Components   0.982288  0.946429  0.956822   0.917697  1.000000\n",
            "FA 2 Factors       0.984943  0.932143  0.947391   0.902331  1.000000\n",
            "PPCA 2 Components  0.970044  0.928571  0.935284   0.965192  0.913293\n",
            "\n",
            "Comparação entre todos os modelos testados\n",
            "                         Auc  Accuracy        F1  Precision    Recall\n",
            "VAE                 1.000000  0.989286  0.990159   0.980833  1.000000\n",
            "FA 2 Factors        0.984943  0.932143  0.947391   0.902331  1.000000\n",
            "GMM                 0.998674  0.953571  0.939218   1.000000  0.888506\n",
            "FA 3 Factors        0.984452  0.921429  0.937542   0.883854  1.000000\n",
            "PPCA 2 Components   0.970044  0.928571  0.935284   0.965192  0.913293\n",
            "PPCA 4 Components   0.981472  0.917857  0.932535   0.957095  0.910738\n",
            "PPCA 3 Components   0.976888  0.917857  0.932115   0.957663  0.909724\n",
            "PPCA 5 Components   0.982589  0.910714  0.924748   0.961559  0.890738\n",
            "PPCA 8 Components   0.982357  0.907143  0.922566   0.969412  0.881269\n",
            "PPCA 6 Components   0.982892  0.903571  0.919235   0.968579  0.875616\n",
            "FA 4 Factors        0.982801  0.885714  0.917649   0.849512  1.000000\n",
            "PPCA 7 Components   0.983694  0.900000  0.915468   0.968579  0.868720\n",
            "PPCA 9 Components   0.980890  0.892857  0.910567   0.974675  0.856878\n",
            "FA 5 Factors        0.981896  0.857143  0.900634   0.820250  1.000000\n",
            "PPCA 10 Components  0.982811  0.867857  0.886183   0.973502  0.816687\n",
            "FA 10 Factors       0.976952  0.775000  0.842744   0.732962  1.000000\n",
            "FA 9 Factors        0.977988  0.760714  0.834799   0.722216  1.000000\n",
            "FA 8 Factors        0.979057  0.750000  0.828755   0.712577  1.000000\n",
            "FA 7 Factors        0.980873  0.732143  0.818910   0.699793  1.000000\n",
            "FA 6 Factors        0.982410  0.703571  0.803749   0.677442  1.000000\n"
          ]
        }
      ]
    },
    {
      "cell_type": "code",
      "source": [],
      "metadata": {
        "id": "i2TwJqtoU_FW"
      },
      "execution_count": null,
      "outputs": []
    }
  ]
}